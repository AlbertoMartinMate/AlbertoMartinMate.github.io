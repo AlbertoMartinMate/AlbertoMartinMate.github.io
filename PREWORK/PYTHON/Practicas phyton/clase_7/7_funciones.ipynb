{
  "cells": [
    {
      "cell_type": "markdown",
      "metadata": {
        "id": "klm9Q37uSiTz"
      },
      "source": [
        "1. Define una función llamada \"saludar\" que tome un parámetro \"nombre\"\n",
        "y muestre un saludo personalizado.\n",
        "\n"
      ]
    },
    {
      "cell_type": "code",
      "execution_count": null,
      "metadata": {
        "colab": {
          "base_uri": "https://localhost:8080/"
        },
        "id": "aqrgherbSl4j",
        "outputId": "8f2bb3b0-eeb9-4604-a4e1-3cbc7c6ff6e1"
      },
      "outputs": [
        {
          "name": "stdout",
          "output_type": "stream",
          "text": [
            "Hola Mario!\n"
          ]
        }
      ],
      "source": [
        "def saludar(nombre):\n",
        "  print(f\"Hola {nombre}!\")\n",
        "\n",
        "saludar(\"Mario\")\n",
        "\n"
      ]
    },
    {
      "cell_type": "markdown",
      "metadata": {
        "id": "WxmL0vYdUnTF"
      },
      "source": [
        "2. Crea una función llamada \"suma\" que tome dos parámetros \"a\" y \"b\" e\n",
        "imprima la suma de ambos."
      ]
    },
    {
      "cell_type": "code",
      "execution_count": null,
      "metadata": {
        "colab": {
          "base_uri": "https://localhost:8080/"
        },
        "id": "3dVx_opfU6Hb",
        "outputId": "1783a6c0-0ef2-4783-9d22-a7b4cf7f88cd"
      },
      "outputs": [
        {
          "name": "stdout",
          "output_type": "stream",
          "text": [
            "La suma de estos números es 8\n"
          ]
        }
      ],
      "source": [
        "def suma(a,b):\n",
        "  print(f\"La suma de estos números es {a+b}\")\n",
        "\n",
        "suma(3,5)"
      ]
    },
    {
      "cell_type": "markdown",
      "metadata": {
        "id": "PQEVlqTzYQVN"
      },
      "source": [
        "3. Escribe una función llamada \"calcular_area_rectangulo\" que tome dos\n",
        "parámetros \"base\" y \"altura\" y calcule el área de un rectángulo."
      ]
    },
    {
      "cell_type": "code",
      "execution_count": null,
      "metadata": {
        "colab": {
          "base_uri": "https://localhost:8080/"
        },
        "id": "0FrzBqNEYSfs",
        "outputId": "4c750c72-480c-49e8-ee69-b9caacbd71b8"
      },
      "outputs": [
        {
          "name": "stdout",
          "output_type": "stream",
          "text": [
            "El área del rectangulo es 56\n"
          ]
        }
      ],
      "source": [
        "def calcular_area_rectangulo(base,altura):\n",
        "  area_rectangulo=base*altura\n",
        "  print(f\"El área del rectangulo es {area_rectangulo}\")\n",
        "\n",
        "calcular_area_rectangulo(8,7)"
      ]
    },
    {
      "cell_type": "markdown",
      "metadata": {
        "id": "KACqfrxnZPnS"
      },
      "source": [
        "4. Define una función llamada \"imprimir_lista\" que tome una lista como\n",
        "parámetro y la imprima en la consola."
      ]
    },
    {
      "cell_type": "code",
      "execution_count": null,
      "metadata": {
        "colab": {
          "base_uri": "https://localhost:8080/"
        },
        "id": "xhIg4KOOZUwE",
        "outputId": "cb8da698-246b-44a4-f1ba-604d4b5a0bc9"
      },
      "outputs": [
        {
          "name": "stdout",
          "output_type": "stream",
          "text": [
            "2\n",
            "4\n",
            "6\n",
            "8\n",
            "10\n"
          ]
        }
      ],
      "source": [
        "def imprimir_lista(lista):\n",
        "  for elemento in lista:\n",
        "    print(elemento)\n",
        "\n",
        "mi_lista=[2,4,6,8,10]\n",
        "\n",
        "imprimir_lista(mi_lista)"
      ]
    },
    {
      "cell_type": "markdown",
      "metadata": {
        "id": "LTB6PkLZlYbi"
      },
      "source": [
        "5. Crea una función llamada \"es_par\" que tome un número como\n",
        "parámetro e imprima True si es par, o False si es impar."
      ]
    },
    {
      "cell_type": "code",
      "execution_count": null,
      "metadata": {
        "colab": {
          "base_uri": "https://localhost:8080/"
        },
        "id": "5Ulb3TRPleRj",
        "outputId": "6fe50ee6-644b-4653-e496-5101c937a0bb"
      },
      "outputs": [
        {
          "name": "stdout",
          "output_type": "stream",
          "text": [
            "False\n"
          ]
        }
      ],
      "source": [
        "def es_par(num):\n",
        "  if num%2==0:\n",
        "    print(\"True\")\n",
        "  else:\n",
        "    print(\"False\")\n",
        "\n",
        "es_par(35)\n",
        "\n"
      ]
    },
    {
      "cell_type": "markdown",
      "metadata": {
        "id": "BJSAdMw9ncZE"
      },
      "source": [
        "6. Escribe una función llamada \"concatenar_strings\" que tome dos\n",
        "parámetros \"cadena1\" y “cadena2\" e imprima la concatenación de\n",
        "ambas cadenas."
      ]
    },
    {
      "cell_type": "code",
      "execution_count": null,
      "metadata": {
        "colab": {
          "base_uri": "https://localhost:8080/"
        },
        "id": "miNgLVEEnf6h",
        "outputId": "f3e9db1c-b7df-4872-9df9-73901d1c962d"
      },
      "outputs": [
        {
          "name": "stdout",
          "output_type": "stream",
          "text": [
            "CamelaBenito\n"
          ]
        }
      ],
      "source": [
        "def concatenar_strings(cadena1,cadena2):\n",
        "  print(cadena1 + cadena2)\n",
        "\n",
        "palabra1=\"Benito\"\n",
        "palabra2=\"Camela\"\n",
        "\n",
        "concatenar_strings(palabra2, palabra1)"
      ]
    },
    {
      "cell_type": "markdown",
      "metadata": {
        "id": "10NERBIeoCTT"
      },
      "source": [
        "7. Define una función llamada \"obtener_maximo\" que tome una lista de\n",
        "números como parámetro y devuelva el número máximo de la lista."
      ]
    },
    {
      "cell_type": "code",
      "execution_count": null,
      "metadata": {
        "colab": {
          "base_uri": "https://localhost:8080/"
        },
        "id": "E872Rm2BoHW9",
        "outputId": "da37d66a-570f-4194-fe6e-6b7729f63632"
      },
      "outputs": [
        {
          "name": "stdout",
          "output_type": "stream",
          "text": [
            "12\n",
            "35\n"
          ]
        }
      ],
      "source": [
        "def obtener_maximo(lista):\n",
        "  print(max(lista))\n",
        "\n",
        "mi_lista=[3,5,2,10,12,4,1]\n",
        "mi_lista2=[35,20,10]\n",
        "\n",
        "obtener_maximo(mi_lista)\n",
        "obtener_maximo(mi_lista2)"
      ]
    },
    {
      "cell_type": "markdown",
      "metadata": {
        "id": "VrfwiqJGqvGX"
      },
      "source": [
        "8. Crea una función llamada \"convertir_fahrenheit_a_celsius\" que tome un\n",
        "parámetro \"fahrenheit\" y devuelva su equivalente en grados Celsius."
      ]
    },
    {
      "cell_type": "code",
      "execution_count": null,
      "metadata": {
        "colab": {
          "base_uri": "https://localhost:8080/"
        },
        "id": "r_y0fp1_z0Xd",
        "outputId": "78e70cf9-c0a5-42ca-90d3-e04bdcfb1eb7"
      },
      "outputs": [
        {
          "name": "stdout",
          "output_type": "stream",
          "text": [
            "130 grados fahrenheit son 54.44 grados\n"
          ]
        }
      ],
      "source": [
        "def convertir_fahrenheit_a_celsius(fahrenheit):\n",
        "  grados=(fahrenheit -32) *5/9\n",
        "  print(f\"{fahrenheit} grados fahrenheit son {grados:.2f} grados\")\n",
        "\n",
        "convertir_fahrenheit_a_celsius(130)"
      ]
    },
    {
      "cell_type": "markdown",
      "metadata": {
        "id": "fsSHawKm1MmY"
      },
      "source": [
        "9. Escribe una función llamada \"calcular_edad\" que tome dos parámetros:\n",
        "\"año_actual\" y \"año_nacimiento\" y calcule la edad de una persona."
      ]
    },
    {
      "cell_type": "code",
      "execution_count": 1,
      "metadata": {
        "colab": {
          "base_uri": "https://localhost:8080/"
        },
        "id": "25VNCFPH1SNC",
        "outputId": "bf3b1188-ac42-4dd9-c024-dc3f192b5151"
      },
      "outputs": [
        {
          "name": "stdout",
          "output_type": "stream",
          "text": [
            "Tienes una edad de: 38 años\n"
          ]
        }
      ],
      "source": [
        "def calcular_edad(año_actual, año_nacimiento):\n",
        "  edad=año_actual-año_nacimiento\n",
        "  print(\"Tienes una edad de:\", edad, \"años\")\n",
        "\n",
        "año=int(input(\"¿En que año estamos?\"))\n",
        "año_naciste=int(input(\"¿En que año naciste\"))\n",
        "calcular_edad(año, año_naciste)"
      ]
    },
    {
      "cell_type": "markdown",
      "metadata": {
        "id": "LUM9nsrW4qvs"
      },
      "source": [
        "10. Define una función llamada \"es_divisible\" que tome dos parámetros\n",
        "\"num\" y \"divisor\" e imprima True si \"num\" es divisible por \"divisor\", o\n",
        "False si no lo es."
      ]
    },
    {
      "cell_type": "code",
      "execution_count": 2,
      "metadata": {
        "colab": {
          "base_uri": "https://localhost:8080/"
        },
        "id": "z0R004Qo4xOQ",
        "outputId": "0d2ca3ed-76c6-444f-f946-ac3b33a5969f"
      },
      "outputs": [
        {
          "name": "stdout",
          "output_type": "stream",
          "text": [
            "True\n"
          ]
        }
      ],
      "source": [
        "def es_divisible(num,divisor):\n",
        "  if num%divisor==0:\n",
        "    resultado=True\n",
        "  else:\n",
        "    resultado=False\n",
        "  print(resultado)\n",
        "\n",
        "es_divisible(12,6)"
      ]
    },
    {
      "cell_type": "markdown",
      "metadata": {
        "id": "k3DbGgBY9p6X"
      },
      "source": [
        "11. Crea una función llamada \"mostrar_info_persona\" que tome tres\n",
        "argumentos de palabra clave: \"nombre\", \"edad\" y \"ciudad\". La función\n",
        "debe imprimir en la consola la información de una persona en un\n",
        "formato legible."
      ]
    },
    {
      "cell_type": "code",
      "execution_count": 8,
      "metadata": {
        "colab": {
          "base_uri": "https://localhost:8080/"
        },
        "id": "SN5hp22f9uUK",
        "outputId": "4fd41dae-1720-4245-f9b3-d5df72791b6a"
      },
      "outputs": [
        {
          "name": "stdout",
          "output_type": "stream",
          "text": [
            "Nombre: Juan\n",
            "Edad: 35\n",
            "Ciudad: Madrid\n"
          ]
        }
      ],
      "source": [
        "def mostrar_info_persona(nombre,edad,ciudad):\n",
        "  print(\"Nombre:\", nombre.title())\n",
        "  print(\"Edad:\", edad)\n",
        "  print(\"Ciudad:\", ciudad.title())\n",
        "\n",
        "mostrar_info_persona(edad=35,nombre=\"juan\",ciudad=\"madrid\")"
      ]
    },
    {
      "cell_type": "markdown",
      "metadata": {
        "id": "9PHbi4JcJZz-"
      },
      "source": [
        "12. Escribe una función llamada \"calcular_promedio\" que tome una lista de números como parámetro y calcule el promedio de esos números. Si no se proporciona una lista, debe usar una lista vacía por defecto."
      ]
    },
    {
      "cell_type": "code",
      "execution_count": null,
      "metadata": {
        "colab": {
          "base_uri": "https://localhost:8080/"
        },
        "id": "rzkByGgaJrxZ",
        "outputId": "acbd4677-2de8-4fce-8fd3-279c9167d52c"
      },
      "outputs": [
        {
          "name": "stdout",
          "output_type": "stream",
          "text": [
            "La nota media es: 6.0\n"
          ]
        }
      ],
      "source": [
        "def calcular_promedio(lista=[]):\n",
        "  if len(lista)==0:\n",
        "    resultado= 0\n",
        "  else:\n",
        "    resultado= sum(lista)/len(lista)\n",
        "  print(\"La nota media es:\", resultado)\n",
        "\n",
        "notas=[3,5,7,9]\n",
        "calcular_promedio(notas)\n"
      ]
    },
    {
      "cell_type": "markdown",
      "metadata": {
        "id": "VQNjUf0gMdrk"
      },
      "source": [
        "13. Crea una función llamada \"calcular_potencia\" que tome dos parámetros \"base\" y \"exponente\", y calcule la potencia de la base elevada al exponente. Utiliza 2 como valor por defecto para el exponente."
      ]
    },
    {
      "cell_type": "code",
      "execution_count": 20,
      "metadata": {
        "colab": {
          "base_uri": "https://localhost:8080/"
        },
        "id": "aPi7f8UVNBSf",
        "outputId": "ebc12bf0-43c3-4122-8b94-c552b3d8b284"
      },
      "outputs": [
        {
          "name": "stdout",
          "output_type": "stream",
          "text": [
            "La potencia es 64\n"
          ]
        }
      ],
      "source": [
        "def calcular_potencia(base,exponente=2):\n",
        "    potencia=base**exponente\n",
        "    print(\"La potencia es\", potencia)\n",
        "\n",
        "\n",
        "calcular_potencia(4,3)\n",
        "\n"
      ]
    },
    {
      "cell_type": "markdown",
      "metadata": {
        "id": "UfgZamotPWDO"
      },
      "source": [
        "14. Define una función llamada \"imprimir_info_alumno\" que tome un argumento posicional “nombre”(y sin valor por defecto) y varios argumentos de palabra clave: \"edad\", \"curso\" y “promedio\" (puedes ponerles como valor por defecto None). La función debe imprimir la información del alumno en un formato legible."
      ]
    },
    {
      "cell_type": "code",
      "execution_count": 18,
      "metadata": {
        "colab": {
          "base_uri": "https://localhost:8080/"
        },
        "id": "OiUREQJEPalx",
        "outputId": "ca6c2eb6-a041-446c-a4b0-a1042f04c47a"
      },
      "outputs": [
        {
          "name": "stdout",
          "output_type": "stream",
          "text": [
            "Alumno: Juan\n",
            "Edad: 3\n",
            "Curso: 6\n",
            "Promedio: 5.5\n"
          ]
        }
      ],
      "source": [
        "def imprimir_info_alumno(nombre, edad=None, curso=None, promedio=None):\n",
        "  print(\"Alumno:\", nombre.title())\n",
        "  if edad is not None:\n",
        "    print(\"Edad:\", edad)\n",
        "  if curso is not None:\n",
        "    print(\"Curso:\", curso)\n",
        "  if promedio is not None:\n",
        "    print(\"Promedio:\", promedio)\n",
        "\n",
        "imprimir_info_alumno(\"Juan\", edad=3, curso=6, promedio=5.5)\n"
      ]
    },
    {
      "cell_type": "code",
      "execution_count": null,
      "metadata": {},
      "outputs": [],
      "source": []
    }
  ],
  "metadata": {
    "colab": {
      "provenance": []
    },
    "kernelspec": {
      "display_name": "work",
      "language": "python",
      "name": "python3"
    },
    "language_info": {
      "codemirror_mode": {
        "name": "ipython",
        "version": 3
      },
      "file_extension": ".py",
      "mimetype": "text/x-python",
      "name": "python",
      "nbconvert_exporter": "python",
      "pygments_lexer": "ipython3",
      "version": "3.9.21"
    }
  },
  "nbformat": 4,
  "nbformat_minor": 0
}
