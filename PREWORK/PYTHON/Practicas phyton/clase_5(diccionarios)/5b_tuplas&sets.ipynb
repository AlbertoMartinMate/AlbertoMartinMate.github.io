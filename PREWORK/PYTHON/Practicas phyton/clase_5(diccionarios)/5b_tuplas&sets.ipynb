{
 "cells": [
  {
   "cell_type": "markdown",
   "metadata": {},
   "source": [
    "RED SOCIAL: Una red social tiene una base de datos de usuarios y sus correspondientes amistades. Crea un programa que tome una base de datos de una red social como una lista de tuplas, donde cada tupla contiene el nombre del usuario y una lista de sus amigos. Los nombres repetidos en la lista de amigos corresponden a usuarios con varias cuentas diferentes. Deberas eliminar las cuentas duplicadas y después devolver una tupla de tuplas que contiene el número real de amigos por usuario y el usuario con más amigos. Pista 1: Tus datos de entrada podrían ser así —> red_social = [(\"Juan\", [\"Maria\", \"Pedro\", \"Luis\"]), (\"Maria\", [\"Juan\", “Pedro”,”Juan”]), (\"Pedro\", [\"Juan\", \"Maria\"]), (\"Luis\", [“Juan”])] Pista 2: Para eliminar duplicidades puedes usar sets"
   ]
  },
  {
   "cell_type": "code",
   "execution_count": 30,
   "metadata": {},
   "outputs": [
    {
     "name": "stdout",
     "output_type": "stream",
     "text": [
      "El número real de amigos sin ellos duplicados, son:  \n",
      ", (['Juan', ['Luis', 'Maria', 'Pedro']], ['Maria', ['Juan', 'Pedro']], ['Pedro', ['Maria', 'Juan']], ['Luis', ['Juan']])\n",
      "('Juan', 3)\n",
      "('Maria', 2)\n",
      "('Pedro', 2)\n",
      "('Luis', 1)\n",
      "El usuario con mas amigos, es:  Juan\n"
     ]
    }
   ],
   "source": [
    "red_social =[[\"Juan\", [\"Maria\", \"Pedro\", \"Luis\"]], [\"Maria\", [\"Juan\", \"Pedro\",\"Juan\"]], \n",
    "[\"Pedro\", [\"Juan\", \"Maria\"]], [\"Luis\", [\"Juan\"]] ]\n",
    "\n",
    "#eliminar las cuentas duplicadas en amigos\n",
    "\n",
    "#desempaquetar tupla==> usuario, amigos= red_social[i]\n",
    "\n",
    "lista_sin_duplicados = [[usuario, list(set(amigos))] for usuario, amigos in red_social] #for usuario,amigos(recorre cada elemento dentro de cada lista)\n",
    "tupla_lista=tuple(lista_sin_duplicados) #lo pasamos a tupla | creo una lista de amigos isn duplicados\n",
    "\n",
    "print(f\"El número real de amigos sin ellos duplicados, son:  \\n, {tupla_lista}\")\n",
    "\n",
    "mayor_amigos=0  \n",
    "popular=\"\"\n",
    "for usuario in lista_sin_duplicados:  #claculamos el usuario con mas amigos\n",
    "    num_amigos=(len(usuario[1]))       #queremos saber la longitud de la segunda sublista\n",
    "    \n",
    "    \n",
    "    if num_amigos>mayor_amigos:        #segun el numero del valor anterior nos quedamos con el mayor\n",
    "        popular=usuario[0]             #segun resultado, nos quedamos con el primer valor\n",
    "        mayor_amigos=num_amigos        #le cambiamos el valor porque sino se pone a 0\n",
    "    \n",
    "    print(tuple([usuario[0], num_amigos]))\n",
    "\n",
    "\n",
    "print(\"El usuario con mas amigos, es: \", popular)\n",
    "\n"
   ]
  },
  {
   "cell_type": "markdown",
   "metadata": {},
   "source": [
    "LA BIBLIOTECA: Una biblioteca tiene una lista de libros y sus autores. Crea un programa que tome la lista de libros y sus autores como una lista de tuplas, donde cada tupla contiene el título del libro y el nombre del autor, y devuelva una nueva lista de tuplas que contenga el título del libro y el apellido del autor. Pista: Tus datos de entrada podrían ser así —> lista_libros = [(‘El aleph', ‘Jorge Luis Borges'), ('Cien años de soledad', ‘Garbriel Garcia Márquez'), ('La ciudad y los perros', ‘Mario Vargas Llosa')]"
   ]
  },
  {
   "cell_type": "code",
   "execution_count": 41,
   "metadata": {},
   "outputs": [
    {
     "name": "stdout",
     "output_type": "stream",
     "text": [
      "[('El aleph', 'Borges'), ('Cien años de soledad', 'Márquez'), ('La ciudad y los perros', 'Llosa')]\n"
     ]
    }
   ],
   "source": [
    "lista_libros = [(\"El aleph\", \"Jorge Luis Borges\"), \n",
    "                (\"Cien años de soledad\", \"Garbriel Garcia Márquez\"), \n",
    "                (\"La ciudad y los perros\", \"Mario Vargas Llosa\")]\n",
    "\n",
    "lista_definitiva=[]\n",
    "\n",
    "for libro, autor in lista_libros:  #desempaquetamos tupla\n",
    "\n",
    "    apellido = autor.split()[-1]  #nos quedamos con la ultima palabra\n",
    "\n",
    "    lista_definitiva.append((libro, apellido)) #añadimos a la lista, lo q queremos\n",
    "    \n",
    "\n",
    "print(lista_definitiva)"
   ]
  },
  {
   "cell_type": "markdown",
   "metadata": {},
   "source": [
    "DATOS CLIENTES: Una compañía tiene dos bases de datos de clientes. La primera base de datos contiene el nombre del cliente, la dirección de correo electrónico y el número de teléfono. La segunda base de datos contiene el nombre del cliente, la dirección y el historial de pedidos. Escribe un programa que tome las dos bases de datos como listas de tuplas y devuelva una nueva lista de tuplas que contenga solo los clientes que aparecen en ambas bases de datos. Los clientes se consideran iguales si tienen el mismo nombre. Pista: Tus datos de entrada podrían ser así —> base_datos1 = [(\"Juan\", \"juan@example.com\", \"555-1234\"), (\"Maria\", \"maria@example.com\", \"555-5678\"), (\"Pedro\", \"pedro@example.com\", “555-9012\")] base_datos2 = [(\"Juan\", \"Calle 123\", [\"Libro1\", \"Libro2\"]), (\"Maria\", \"Calle 456\", [\"Libro3\"]), (\"Luis\", \"Calle 789\", [\"Libro4\"])]"
   ]
  },
  {
   "cell_type": "code",
   "execution_count": 58,
   "metadata": {},
   "outputs": [
    {
     "name": "stdout",
     "output_type": "stream",
     "text": [
      "{'Maria', 'Juan'}\n",
      "[['Juan', 'juan@example.com', '555-1234', 'Calle 123', ['Libro1', 'Libro2']], ['Maria', 'maria@example.com', '555-5678', 'Calle 456', ['Libro3']]]\n"
     ]
    }
   ],
   "source": [
    "base_datos1 = [(\"Juan\", \"juan@example.com\", \"555-1234\"), (\"Maria\", \"maria@example.com\", \"555-5678\"), (\"Pedro\", \"pedro@example.com\", \"555-9012\")]\n",
    "\n",
    "base_datos2 = [(\"Juan\", \"Calle 123\", [\"Libro1\", \"Libro2\"]), (\"Maria\", \"Calle 456\", [\"Libro3\"]), (\"Luis\", \"Calle 789\", [\"Libro4\"])]\n",
    "\n",
    "nombres1=set([cliente[0] for cliente in base_datos1])\n",
    "nombres2=set([cliente[0] for cliente in base_datos2])\n",
    "\n",
    "cliente_objetivo= nombres1.intersection(nombres2)\n",
    "print(cliente_objetivo)\n",
    "\n",
    "clientes_comunes=[]\n",
    "\n",
    "for cliente1 in base_datos1:\n",
    "    if cliente1[0] in cliente_objetivo:\n",
    "        for cliente2 in base_datos2:\n",
    "            if cliente2[0]==cliente1[0]:\n",
    "                clientes_comunes.append([cliente1[0], cliente1[1], cliente1[2], cliente2[1], cliente2[2]])\n",
    "                break\n",
    "\n",
    "print(clientes_comunes)\n",
    "\n"
   ]
  }
 ],
 "metadata": {
  "kernelspec": {
   "display_name": "work",
   "language": "python",
   "name": "python3"
  },
  "language_info": {
   "codemirror_mode": {
    "name": "ipython",
    "version": 3
   },
   "file_extension": ".py",
   "mimetype": "text/x-python",
   "name": "python",
   "nbconvert_exporter": "python",
   "pygments_lexer": "ipython3",
   "version": "3.9.21"
  }
 },
 "nbformat": 4,
 "nbformat_minor": 2
}
