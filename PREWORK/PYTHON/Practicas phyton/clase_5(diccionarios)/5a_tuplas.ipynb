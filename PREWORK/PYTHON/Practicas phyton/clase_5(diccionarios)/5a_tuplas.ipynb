{
  "cells": [
    {
      "cell_type": "markdown",
      "metadata": {
        "id": "be9FL5kW4Swe"
      },
      "source": [
        " 1.-Crea una tupla con tres elementos y imprime por pantalla cada uno de ellos en una nueva linea"
      ]
    },
    {
      "cell_type": "code",
      "execution_count": null,
      "metadata": {
        "colab": {
          "base_uri": "https://localhost:8080/"
        },
        "id": "3wrjfX5P4Z69",
        "outputId": "82c90fbd-69b6-4072-ccc7-672db7d22bca"
      },
      "outputs": [
        {
          "name": "stdout",
          "output_type": "stream",
          "text": [
            "fruta\n",
            "perro\n",
            "35\n"
          ]
        }
      ],
      "source": [
        "tupla=(\"fruta\", \"perro\", 35)\n",
        "for elemento in tupla:\n",
        "  print(elemento)"
      ]
    },
    {
      "cell_type": "markdown",
      "metadata": {
        "id": "3RGDtijT47u9"
      },
      "source": [
        " 2. Crea una lista con tres elementos e intenta modificarla. Haz lo mismo con la tupla. ¿Cuáles son las diferencias?"
      ]
    },
    {
      "cell_type": "code",
      "execution_count": null,
      "metadata": {
        "colab": {
          "base_uri": "https://localhost:8080/"
        },
        "id": "U_cHQc8c5EK3",
        "outputId": "3dd09069-84c8-47db-ec13-7448487d778b"
      },
      "outputs": [
        {
          "name": "stdout",
          "output_type": "stream",
          "text": [
            "['fruta', 'gato', 35]\n",
            "('fruta', 'perro', 35, 'verdura')\n"
          ]
        }
      ],
      "source": [
        "lista=[\"fruta\", \"perro\", 35]\n",
        "lista[1]=\"gato\"\n",
        "print(lista)\n",
        "tupla=(\"fruta\", \"perro\", 35)\n",
        "tupla_2= tupla +(\"verdura\",) #no se pueden añadir elementosdirectamente, pero si crear una tupla nueva añadiendo elemento..o pasarlo a lista..\n",
        "\n",
        "print(tupla_2)"
      ]
    },
    {
      "cell_type": "markdown",
      "metadata": {
        "id": "28UjQCYG6DT2"
      },
      "source": [
        " 3. Crea una tupla de enteros y devuelve la suma de los elementos."
      ]
    },
    {
      "cell_type": "code",
      "execution_count": null,
      "metadata": {
        "colab": {
          "base_uri": "https://localhost:8080/"
        },
        "id": "wBFA0QtQ6I-d",
        "outputId": "217e57e1-8afd-4fe6-8394-31843501e8b3"
      },
      "outputs": [
        {
          "name": "stdout",
          "output_type": "stream",
          "text": [
            "57\n"
          ]
        }
      ],
      "source": [
        "tupla_numeros=(2,5,8,11,14,17)\n",
        "suma_tupla=sum(tupla_numeros)\n",
        "print(suma_tupla)"
      ]
    },
    {
      "cell_type": "markdown",
      "metadata": {
        "id": "AXobxyCe7Hl2"
      },
      "source": [
        " 4. Crea un script que dada una tupla que contiene strings cree una nueva tupla con el primer caracter de cada string."
      ]
    },
    {
      "cell_type": "code",
      "execution_count": 2,
      "metadata": {
        "colab": {
          "base_uri": "https://localhost:8080/"
        },
        "id": "1dE9kbvZ7MkO",
        "outputId": "25f11575-f085-4d75-8d89-0c0747c46b35"
      },
      "outputs": [
        {
          "name": "stdout",
          "output_type": "stream",
          "text": [
            "('cereza', 'platano', 'pera', 'piña', 'uva')\n",
            "['c', 'p', 'p', 'p', 'u']\n",
            "('c', 'p', 'p', 'p', 'u')\n"
          ]
        }
      ],
      "source": [
        "tupla_strings=(\"cereza\", \"platano\", \"pera\", \"piña\", \"uva\")\n",
        "print(tupla_strings)\n",
        "lista_string=[]\n",
        "\n",
        "for string in tupla_strings:      #recorro los strings y me quedo con el primer caracter\n",
        "  lista_string.append(string[0])\n",
        "print(lista_string)\n",
        "\n",
        "tupla_caracter=tuple(lista_string) #paso la lista a tupla\n",
        "\n",
        "print(tupla_caracter)"
      ]
    },
    {
      "cell_type": "markdown",
      "metadata": {
        "id": "T-d5g9QzBcrQ"
      },
      "source": [
        "5. Crea un script que dada una tupla de números devuelva el producto de todos los números pares."
      ]
    },
    {
      "cell_type": "markdown",
      "metadata": {
        "id": "RX23nd34Bg0g"
      },
      "source": []
    },
    {
      "cell_type": "code",
      "execution_count": null,
      "metadata": {
        "colab": {
          "base_uri": "https://localhost:8080/"
        },
        "id": "y8dm7s7TOHvN",
        "outputId": "0b6ddb9e-5c36-4a8c-c750-4efcc5714688"
      },
      "outputs": [
        {
          "name": "stdout",
          "output_type": "stream",
          "text": [
            "2\n",
            "16\n",
            "224\n"
          ]
        }
      ],
      "source": [
        "tupla_numeros_2=(2,5,8,11,14,17)\n",
        "producto=1\n",
        "\n",
        "for n in tupla_numeros_2:\n",
        "  if n %2==0:\n",
        "    producto*= n\n",
        "    print(producto)\n",
        "\n"
      ]
    },
    {
      "cell_type": "markdown",
      "metadata": {
        "id": "wB0y9VRnO5vt"
      },
      "source": [
        "6. Crea un script que dada una tupla de números, devuelva la tupla con los numeros ordeandos en orden descendente."
      ]
    },
    {
      "cell_type": "code",
      "execution_count": null,
      "metadata": {
        "colab": {
          "base_uri": "https://localhost:8080/"
        },
        "id": "U_CrH6cYPFSm",
        "outputId": "8f49102d-d2a7-4873-9265-4b3307d331a2"
      },
      "outputs": [
        {
          "name": "stdout",
          "output_type": "stream",
          "text": [
            "(17, 14, 11, 8, 5, 2)\n"
          ]
        }
      ],
      "source": [
        "tupla_numeros_2=(2,5,8,11,14,17)\n",
        "tupla_reverse=tuple(sorted(tupla_numeros_2,reverse=True)) #XA ORDENAR NUMEROS\n",
        "print(tupla_reverse)"
      ]
    },
    {
      "cell_type": "markdown",
      "metadata": {
        "id": "J5jSQTS3bZhb"
      },
      "source": [
        "7. Crea un script que dada una tupla con números enteros repetidos, elimine los\n",
        "duplicados. (Puedes usar sets)."
      ]
    },
    {
      "cell_type": "code",
      "execution_count": 3,
      "metadata": {
        "colab": {
          "base_uri": "https://localhost:8080/"
        },
        "id": "L3pDHJgucaT7",
        "outputId": "89b2efc0-f517-4e11-f9bc-df4cac4969e6"
      },
      "outputs": [
        {
          "name": "stdout",
          "output_type": "stream",
          "text": [
            "(2, 5, 8, 11, 14, 17)\n"
          ]
        }
      ],
      "source": [
        "tupla_numeros_2=(2,5,8,11,14,17,5,11,2)\n",
        "tupla_numeros=tuple(set(tupla_numeros_2))\n",
        "print(tupla_numeros)"
      ]
    },
    {
      "cell_type": "markdown",
      "metadata": {
        "id": "lvYJ6epEhzoe"
      },
      "source": [
        " 8. Crea un script que dada una tupla y un numero entero, devuelve verdadero si el numero se encuentra en la tupla y falso en el caso contrario."
      ]
    },
    {
      "cell_type": "code",
      "execution_count": null,
      "metadata": {
        "colab": {
          "base_uri": "https://localhost:8080/"
        },
        "id": "UiPe6uQCh2Ym",
        "outputId": "ad23ad9e-9fc6-4620-ee24-ac9db1c6fb52"
      },
      "outputs": [
        {
          "name": "stdout",
          "output_type": "stream",
          "text": [
            "False\n"
          ]
        }
      ],
      "source": [
        "tupla_numeros_2=(2,5,8,11,14,17)\n",
        "numero=15\n",
        "print(numero in tupla_numeros_2)"
      ]
    },
    {
      "cell_type": "markdown",
      "metadata": {
        "id": "gxhWjAkNi7Pm"
      },
      "source": [
        "9. Crea un script que dadas dos tuplas cree una tupla resultante de la union de ambas."
      ]
    },
    {
      "cell_type": "code",
      "execution_count": null,
      "metadata": {
        "colab": {
          "base_uri": "https://localhost:8080/"
        },
        "id": "kCdoMWcji9Ml",
        "outputId": "6e47cc7a-5302-4b50-d9b4-e1692720349e"
      },
      "outputs": [
        {
          "name": "stdout",
          "output_type": "stream",
          "text": [
            "(2, 5, 8, 11, 14, 17, 1, 3, 5, 7, 9, 11)\n"
          ]
        }
      ],
      "source": [
        "tupla_numeros_2=(2,5,8,11,14,17)\n",
        "tupla_numeros_1=(1,3,5,7,9,11)\n",
        "print(tupla_numeros_2 + tupla_numeros_1)"
      ]
    },
    {
      "cell_type": "markdown",
      "metadata": {
        "id": "MHUG6MUNljvn"
      },
      "source": [
        "10. Crea un script que dada una tupla de números devuelva e máximo y el mínimo."
      ]
    },
    {
      "cell_type": "code",
      "execution_count": null,
      "metadata": {
        "colab": {
          "base_uri": "https://localhost:8080/"
        },
        "id": "M3_oSDeQlk_2",
        "outputId": "570e4012-bb02-489a-dbd9-30d583a9d70f"
      },
      "outputs": [
        {
          "name": "stdout",
          "output_type": "stream",
          "text": [
            "El número máximo es:  17\n",
            "El número minimo es:  2\n"
          ]
        }
      ],
      "source": [
        "tupla_numeros_2=(2,5,8,11,14,17)\n",
        "print(\"El número máximo es: \", max(tupla_numeros_2))\n",
        "print(\"El número minimo es: \", min(tupla_numeros_2))"
      ]
    },
    {
      "cell_type": "markdown",
      "metadata": {
        "id": "anRzKBhLl8h_"
      },
      "source": [
        "11. Crea un script que dada una tupla con strings devuelva el string más largo y el más corto. (Prueba añadiendo key=len a las funciones max y min)."
      ]
    },
    {
      "cell_type": "code",
      "execution_count": null,
      "metadata": {
        "colab": {
          "base_uri": "https://localhost:8080/"
        },
        "id": "rmj37fsPl-gm",
        "outputId": "5f97679e-339e-438a-e631-b5b00e566ed1"
      },
      "outputs": [
        {
          "name": "stdout",
          "output_type": "stream",
          "text": [
            "String mas largo:  codorniz\n",
            "String mas corto:  gato\n"
          ]
        }
      ],
      "source": [
        "tupla_string=(\"perro\", \"gato\", \"codorniz\")\n",
        "print(\"String mas largo: \", max(tupla_string, key=len))  # PARA DEVOLVER EL STRING DE MAS Y MENOS CARACTERES\n",
        "print(\"String mas corto: \", min(tupla_string, key=len))"
      ]
    },
    {
      "cell_type": "markdown",
      "metadata": {
        "id": "FgkSiWFSpq4Z"
      },
      "source": [
        "12. Crea un script que dada una tupla devuelva el contenido en orden revertido."
      ]
    },
    {
      "cell_type": "code",
      "execution_count": null,
      "metadata": {
        "colab": {
          "base_uri": "https://localhost:8080/"
        },
        "id": "7XwrsMFapsOQ",
        "outputId": "15244a74-d965-479e-8d2a-d9b50c710a37"
      },
      "outputs": [
        {
          "name": "stdout",
          "output_type": "stream",
          "text": [
            "('perro', 'gato', 'codorniz')\n",
            "('codorniz', 'gato', 'perro')\n"
          ]
        }
      ],
      "source": [
        "tupla_string=(\"perro\", \"gato\", \"codorniz\")\n",
        "tupla_reverse=tupla_string[::-1]\n",
        "print(tupla_string)\n",
        "print(tupla_reverse)"
      ]
    },
    {
      "cell_type": "markdown",
      "metadata": {
        "id": "IvGDjksq9OzA"
      },
      "source": [
        " 13. Crea un script que dada una tupla de tuplas, donde cada tupla interna contiene dos elementos, devuelva una nueva tupla en la que cada elemento sea la suma de los dos elementos de la tupla interna correspondiente.\n",
        "\n"
      ]
    },
    {
      "cell_type": "code",
      "execution_count": null,
      "metadata": {
        "colab": {
          "base_uri": "https://localhost:8080/"
        },
        "id": "esIqBppy-lia",
        "outputId": "8532a320-e6fd-42ee-cb83-bd0a59e93ebb"
      },
      "outputs": [
        {
          "name": "stdout",
          "output_type": "stream",
          "text": [
            "(8, 16, 18)\n",
            "<class 'tuple'>\n"
          ]
        }
      ],
      "source": [
        "tupla_de_tuplas=((3,5),(7,9),(8,10))\n",
        "suma_tupla= (sum(numero) for numero in tupla_de_tuplas)\n",
        "suma_tupla=tuple(suma_tupla)\n",
        "\n",
        "print(suma_tupla)\n",
        "print(type(suma_tupla))"
      ]
    }
  ],
  "metadata": {
    "colab": {
      "provenance": []
    },
    "kernelspec": {
      "display_name": "work",
      "language": "python",
      "name": "python3"
    },
    "language_info": {
      "codemirror_mode": {
        "name": "ipython",
        "version": 3
      },
      "file_extension": ".py",
      "mimetype": "text/x-python",
      "name": "python",
      "nbconvert_exporter": "python",
      "pygments_lexer": "ipython3",
      "version": "3.9.21"
    }
  },
  "nbformat": 4,
  "nbformat_minor": 0
}
