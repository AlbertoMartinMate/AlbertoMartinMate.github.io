{
 "cells": [
  {
   "cell_type": "markdown",
   "metadata": {},
   "source": [
    "14. Crea un set y elimina uno de sus elementos."
   ]
  },
  {
   "cell_type": "code",
   "execution_count": 8,
   "metadata": {},
   "outputs": [
    {
     "name": "stdout",
     "output_type": "stream",
     "text": [
      "{'gato', 'pantera'}\n"
     ]
    }
   ],
   "source": [
    "mi_set={\"perro\", \"gato\", \"pantera\"}\n",
    "mi_set.remove(\"perro\")\n",
    "print(mi_set)"
   ]
  },
  {
   "cell_type": "markdown",
   "metadata": {},
   "source": [
    "15. Crea un set vacío."
   ]
  },
  {
   "cell_type": "code",
   "execution_count": 13,
   "metadata": {},
   "outputs": [
    {
     "name": "stdout",
     "output_type": "stream",
     "text": [
      "{'perro'}\n"
     ]
    }
   ],
   "source": [
    "mi_set=set()\n",
    "mi_set.add(\"perro\")\n",
    "print(mi_set)"
   ]
  },
  {
   "cell_type": "markdown",
   "metadata": {},
   "source": [
    "16. Crea dos sets y encuentra su union, su intersección y su diferencia."
   ]
  },
  {
   "cell_type": "code",
   "execution_count": null,
   "metadata": {},
   "outputs": [
    {
     "name": "stdout",
     "output_type": "stream",
     "text": [
      "{1, 2, 3, 4}\n",
      "{2, 3}\n",
      "{1}\n",
      "{1, 4}\n"
     ]
    }
   ],
   "source": [
    "set_1={1,2,3}\n",
    "set_2={2,3,4,}\n",
    "print(set_1|set_2) #union de conjuntos. set_1.union(set_2)\n",
    "print(set_1&set_2) #interssecion. set_1.intersect(set_2)\n",
    "print(set_1-set_2) #diferencia. set_1.difference(set_2)\n",
    "print(set_1 ^ set_2) #dif.simetrica =/ interseccion. "
   ]
  },
  {
   "cell_type": "markdown",
   "metadata": {},
   "source": [
    "## 17.Crea un script que dados dos sets cree uno nuevo que contenga solo los elementos comunes de ambos"
   ]
  },
  {
   "cell_type": "code",
   "execution_count": 1,
   "metadata": {},
   "outputs": [
    {
     "name": "stdout",
     "output_type": "stream",
     "text": [
      "{2, 3}\n"
     ]
    }
   ],
   "source": [
    "set_1={1,2,3}\n",
    "set_2={2,3,4,}\n",
    "set_3=(set_1&set_2)\n",
    "print(set_3)"
   ]
  },
  {
   "cell_type": "markdown",
   "metadata": {},
   "source": [
    "18.Crea un script que dado un set con números devuelva el numero máximo y mínimo."
   ]
  },
  {
   "cell_type": "code",
   "execution_count": 2,
   "metadata": {},
   "outputs": [
    {
     "name": "stdout",
     "output_type": "stream",
     "text": [
      "12 2\n"
     ]
    }
   ],
   "source": [
    "set_4={2,4,6,8,10,12}\n",
    "print(max(set_4), min(set_4))"
   ]
  },
  {
   "cell_type": "markdown",
   "metadata": {},
   "source": [
    "19.Crea un script que dados dos sets cree uno nuevo solo con los elementos únicos de cada uno de los sets."
   ]
  },
  {
   "cell_type": "code",
   "execution_count": 10,
   "metadata": {},
   "outputs": [
    {
     "name": "stdout",
     "output_type": "stream",
     "text": [
      "{2, 3, 4, 8, 9, 10, 14, 15, 16, 21, 24, 27}\n"
     ]
    }
   ],
   "source": [
    "set_4={2,4,6,8,10,12,14,16,18}\n",
    "set_5={3,6,9,12,15,18,21,24,27}\n",
    "set_unico=(set_4^set_5)\n",
    "print(set_unico)"
   ]
  },
  {
   "cell_type": "markdown",
   "metadata": {},
   "source": [
    "20.Crea un set con colores y comprueba si cierto color se encuentra en el set."
   ]
  },
  {
   "cell_type": "code",
   "execution_count": 4,
   "metadata": {},
   "outputs": [
    {
     "name": "stdout",
     "output_type": "stream",
     "text": [
      "True\n",
      "False\n"
     ]
    }
   ],
   "source": [
    "set_colores={\"rojo\", \"verde\", \"azul\", \"gris\", \"blanco\"}\n",
    "\n",
    "print(\"verde\" in set_colores)\n",
    "print(\"negro\" in set_colores)"
   ]
  },
  {
   "cell_type": "markdown",
   "metadata": {},
   "source": [
    "21.Crea un script que dados dos sets cree un nuevo set con los elementos que están en el primer set pero no en el segundo."
   ]
  },
  {
   "cell_type": "code",
   "execution_count": 5,
   "metadata": {},
   "outputs": [
    {
     "name": "stdout",
     "output_type": "stream",
     "text": [
      "{2, 4, 8, 10, 14, 16}\n"
     ]
    }
   ],
   "source": [
    "set_4={2,4,6,8,10,12,14,16,18}\n",
    "set_5={3,6,9,12,15,18,21,24,27}\n",
    "set_diferencia=(set_4-set_5)\n",
    "print(set_diferencia)"
   ]
  },
  {
   "cell_type": "markdown",
   "metadata": {},
   "source": [
    "22.Crea un script que dado un set de enteros devuelva el producto de todos los números dentro del set."
   ]
  },
  {
   "cell_type": "code",
   "execution_count": 16,
   "metadata": {},
   "outputs": [
    {
     "name": "stdout",
     "output_type": "stream",
     "text": [
      "24\n"
     ]
    }
   ],
   "source": [
    "\n",
    "\n",
    "set_2={2,3,4}\n",
    "producto=1\n",
    "for numero in set_2:\n",
    "    producto*=numero\n",
    "print(producto)\n"
   ]
  }
 ],
 "metadata": {
  "kernelspec": {
   "display_name": "work",
   "language": "python",
   "name": "python3"
  },
  "language_info": {
   "codemirror_mode": {
    "name": "ipython",
    "version": 3
   },
   "file_extension": ".py",
   "mimetype": "text/x-python",
   "name": "python",
   "nbconvert_exporter": "python",
   "pygments_lexer": "ipython3",
   "version": "3.9.21"
  }
 },
 "nbformat": 4,
 "nbformat_minor": 2
}
