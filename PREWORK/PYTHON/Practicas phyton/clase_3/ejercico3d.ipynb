{
  "cells": [
    {
      "cell_type": "markdown",
      "metadata": {
        "id": "Yy5UT_E9BXzY"
      },
      "source": [
        "ANALISIS DE VENTAS:\n",
        "Supongamos que eres el propietario de una tienda en línea y tienes una lista de ventas de los\n",
        "últimos 30 días. Quieres analizar las ventas por día de la semana para identificar los días de mayor\n",
        "venta.  \n",
        "Pista 1: Puedes crear dos listas, una con las ventas por cada día del mes como por ejemplo…\n",
        "ventas = [120, 80, 140, 200, 75, 100, 180, 220, 160, 110, 90, 120, 170, 190, 250, 300, 95, 110,\n",
        "140, 180, 200, 160, 120, 80, 170, 150, 210, 190, 230, 250]\n",
        "Y otra lista con los días de la semana:\n",
        "dias_semana = [\"Lunes\", \"Martes\", \"Miércoles\", \"Jueves\", \"Viernes\", \"Sábado\", „Domingo“]\n",
        "Después puedes crear una nueva lista con una entrada por cada día de la semana y usar un bucle\n",
        "para añadir a esta lista la suma de las ventas correspondientes a cada uno de los días de la\n",
        "semana.  \n",
        "Pista 2: Puede que necesites una variable que lleve la cuenta del día de la semana actual y se\n",
        "reinicie a cero cuando llegue al séptimo día."
      ]
    },
    {
      "cell_type": "code",
      "execution_count": null,
      "metadata": {
        "id": "umF3oqEfB8DY"
      },
      "outputs": [],
      "source": [
        "ventas = [120, 80, 140, 200, 75, 100, 180, 220, 160, 110, 90, 120, 170, 190, 250, 300, 95, 110, 140, 180, 200, 160, 120, 80,\n",
        "          170, 150, 210, 190, 230, 250]\n",
        "lunes=[]\n",
        "martes=[]\n",
        "miercoles=[]\n",
        "jueves=[]\n",
        "viernes=[]\n",
        "sabado=[]\n",
        "domingo=[]\n",
        "venta_lunes=0\n",
        "venta_martes=0\n",
        "venta_miercoles=0\n",
        "venta_jueves=0\n",
        "venta_viernes=0\n",
        "venta_sabado=0\n",
        "venta_domingo=0\n",
        "venta_mes=0\n",
        "\n",
        "for i in range(0,len(ventas),7):\n",
        " venta=ventas[i]\n",
        " lunes.append(venta)\n",
        " venta_lunes=sum(lunes)\n",
        "\n",
        "\n",
        "for i in range(1,len(ventas),7):\n",
        " venta=ventas[i]\n",
        " martes.append(venta)\n",
        " venta_martes=sum(martes)\n",
        "\n",
        "for i in range(2,len(ventas),7):\n",
        " venta=ventas[i]\n",
        " miercoles.append(venta)\n",
        " venta_miercoles=sum(miercoles)\n",
        "\n",
        "for i in range(3,len(ventas),7):\n",
        " venta=ventas[i]\n",
        " jueves.append(venta)\n",
        " venta_jueves=sum(jueves)\n",
        "\n",
        "for i in range(4,len(ventas),7):\n",
        "  venta=ventas[i]\n",
        "  viernes.append(venta)\n",
        "  venta_viernes=sum(viernes)\n",
        "\n",
        "for i in range(5,len(ventas),7):\n",
        "  venta=ventas[i]\n",
        "  sabado.append(venta)\n",
        "  venta_sabado=sum(sabado)\n",
        "\n",
        "for i in range(6,len(ventas),7):\n",
        "  venta=ventas[i]\n",
        "  domingo.append(venta)\n",
        "  venta_domingo=sum(domingo)\n",
        "\n",
        "venta_mes= venta_lunes + venta_martes + venta_miercoles + venta_jueves + venta_viernes + venta_sabado + venta_domingo\n",
        "\n",
        "print(f\"\"\"Las ventas realizadas por dias son:\n",
        "      -Lunes {lunes} . Total: {venta_lunes} €\n",
        "      -Martes {martes} . Total: {venta_martes} €\n",
        "      -Miercoles {miercoles} . Total: {venta_miercoles} €\n",
        "      -Jueves {jueves} . Total: {venta_jueves} €\n",
        "      -Viernes{viernes} . Total: {venta_viernes} €\n",
        "      -Sabado {sabado} . Total : {venta_sabado} €\n",
        "      -Domingo{domingo} . Total: {venta_domingo} €\n",
        "\n",
        "      El total de las ventas del mes es : {venta_mes} €\"\"\")\n",
        "\n"
      ]
    },
    {
      "cell_type": "code",
      "execution_count": null,
      "metadata": {},
      "outputs": [],
      "source": [
        "#resolucion ejercicio\n",
        "# lista con las ventas del mes\n",
        "ventas = [120, 80, 140, 200, 75, 100, 180, 220, 160, 110, 90, 120, 170, 190, 250, 300, 95, 110, 140, 180, 200, 160, 120, 80, 170, 150, 210, 190, 230, 250]\n",
        "# lista con los dias de la semana\n",
        "dias_semana = [\"Lunes\", \"Martes\", \"Miércoles\", \"Jueves\", \"Viernes\", \"Sábado\", \"Domingo\"]\n",
        "# lista donde guardar las ventas por dia\n",
        "ventas_totales = [0, 0, 0, 0, 0, 0, 0] \n",
        "\n",
        "# recorrer la lista de ventas con un bucle\n",
        "dia_venta = 0\n",
        "for venta in ventas:\n",
        "    ## sumar para cada dia de la semana las ventas realizadas\n",
        "    ventas_totales[dia_venta] = ventas_totales[dia_venta] + venta\n",
        "    ## pasamos al dia siguiete\n",
        "    dia_venta = dia_venta + 1\n",
        "    ## si llegamos al domingo volvemos de nuevo al lunes\n",
        "    if dia_venta == 7:\n",
        "        # cambiamos el valor al indice del lunes\n",
        "        dia_venta = 0\n",
        "\n",
        "## imprimir las ventas realizadas para cada dia de la semana\n",
        "## a lo a largo de ese mes\n",
        "for i in range(len(dias_semana)):\n",
        "    print(dias_semana[i]+ \":\", ventas_totales[i])"
      ]
    },
    {
      "cell_type": "markdown",
      "metadata": {
        "id": "yv0v3fx3j8Ve"
      },
      "source": [
        "VALIDAR ACCESO A UN SITIO WEB:\n",
        "Supongamos que eres un administrador de sistemas y necesitas validar el acceso de los usuarios\n",
        "a un sitio web. Crea un script que verifique si el nombre de usuario y la contraseña ingresados son\n",
        "correctos y permita el acceso solo si ambos son correctos.\n",
        "Pista 1: Puedes crear dos listas, una con los nombre de usuario como por ejemplo…\n",
        "nombres_usuario = [\"juan123\", \"ana456\", „pedro789\"]\n",
        "Y otra lista con las contraseñas guardadas para cada usuario…\n",
        "contraseñas = [\"clave123\", \"clave456\", „clave789\"]\n",
        "Otra opción puede ser que crees una lista de listas con la forma:\n",
        "nombres_contraseñas = [ [\"juan123“,\"clave123\"] , [\"ana456“,“clave456“] , [\"pedro789“,\n",
        "\"clave789“] ]\n",
        "Despues puedes pedir el usuario y contraseña y comprobar si coinciden.\n",
        "Pista 2: Para verificar si el usuario y contraseña son correctos puedes crear un bucle donde\n",
        "recorras los nombres de usuario y compruebes con un if si el nombre de usuario introducido y la\n",
        "contraseña coinciden con los datos de tus listas"
      ]
    },
    {
      "cell_type": "code",
      "execution_count": 6,
      "metadata": {
        "colab": {
          "base_uri": "https://localhost:8080/"
        },
        "id": "4QlBiOGXkHHE",
        "outputId": "db3dc2d4-f6b8-4c2e-d9a6-15dc617820ab"
      },
      "outputs": [
        {
          "name": "stdout",
          "output_type": "stream",
          "text": [
            "Introduce tu nombre de usuario: ana456\n",
            "Introduce tu contraseña: clave456\n",
            "Contraseña y usuario correcto\n"
          ]
        }
      ],
      "source": [
        "nombres_usuario = [\"juan123\", \"ana456\", \"pedro789\"]\n",
        "passwords =[\"clave123\", \"clave456\", \"clave789\"]\n",
        "usuario= input(\"Introduce tu nombre de usuario: \")\n",
        "contraseña= input(\"Introduce tu contraseña: \")\n",
        "acceso= False\n",
        "j=0\n",
        "i=0\n",
        "\n",
        "for nombre in nombres_usuario:\n",
        "    if usuario==nombre:\n",
        "        i= nombres_usuario.index(nombre)\n",
        "\n",
        "for passw in passwords:\n",
        "    if contraseña==passw:\n",
        "        j= passwords.index(passw)\n",
        "\n",
        "\n",
        "if i==j:\n",
        "   acceso=True\n",
        "\n",
        "if acceso:\n",
        "    print(\"Contraseña y usuario correcto\")\n",
        "else:\n",
        "    print(\"Usuario o contraseña incorrecto\")\n",
        "\n"
      ]
    },
    {
      "cell_type": "code",
      "execution_count": null,
      "metadata": {},
      "outputs": [],
      "source": [
        "#solucion\n",
        "# lista de nombres de usuario\n",
        "nombres_usuario = [\"juan123\", \"ana456\", \"pedro789\"]\n",
        "# lista de contraseña\n",
        "passwords = [\"clave123\", \"clave456\", \"clave789\"]\n",
        "\n",
        "# pedir al usuario su nombre de usuario\n",
        "usuario = input(\"Ingrese su nombre de usuario: \")\n",
        "# pedir al usuario la contraseña\n",
        "password = input(\"Ingrese su contaseña: \")\n",
        "\n",
        "\n",
        "credenciales = False # boolenano que sera true si el usuario\n",
        "                     # y contraseña coinciden con algunos de \n",
        "                     # nuestra lista\n",
        "\n",
        "# recorrer lista de usuarios y contraseñas\n",
        "for i in range(len(nombres_usuario)):\n",
        "    ## comprobar si son iguales a los introducidos por el user\n",
        "    if nombres_usuario[i] == usuario and passwords[i] == password:\n",
        "        # como son un nombre y contraseñas validos \n",
        "        # credenciales pasa a ser true\n",
        "        credenciales = True\n",
        "\n",
        "### si el usuario y contaseña son validos damos la bienvenida\n",
        "if credenciales == True:\n",
        "    print(\"Accceso permitido\")\n",
        "### si no son validos denegamos acceso\n",
        "else:\n",
        "    print(\"Nombre de usuario o contraseña incorrectos\")\n"
      ]
    },
    {
      "cell_type": "code",
      "execution_count": null,
      "metadata": {},
      "outputs": [],
      "source": [
        "#con while\n",
        "\n",
        "# lista de nombres de usuario\n",
        "nombres_usuario = [\"juan123\", \"ana456\", \"pedro789\"]\n",
        "# lista de contraseña\n",
        "passwords = [\"clave123\", \"clave456\", \"clave789\"]\n",
        "\n",
        "# pedir al usuario su nombre de usuario\n",
        "usuario = input(\"Ingrese su nombre de usuario: \")\n",
        "# pedir al usuario la contraseña\n",
        "password = input(\"Ingrese su contaseña: \")\n",
        "\n",
        "# boolenano que sera true si el usuario\n",
        "# y contraseña coinciden con algunos de \n",
        "# nuestra lista\n",
        "credenciales = False\n",
        "# iterador del bucle while para recorrer las listas\n",
        "i = 0\n",
        "# recorrer lista de usuarios y contraseñas\n",
        "while i < len(nombres_usuario):\n",
        "    ## comprobar si son iguales a los introducidos por el user\n",
        "    if nombres_usuario[i] == usuario and passwords[i] == password:\n",
        "        # como son un nombre y contraseñas validos \n",
        "        # credenciales pasa a ser true\n",
        "        credenciales = True\n",
        "\n",
        "    # aumentamos en uno el valor del iterador\n",
        "    i = i + 1\n",
        "\n",
        "### si el usuario y contaseña son validos damos la bienvenida\n",
        "if credenciales == True:\n",
        "    print(\"Acceso permitido\")\n",
        "    \n",
        "### si no son validos denegamos acceso\n",
        "else:\n",
        "    print(\"Acceso denegado\")"
      ]
    },
    {
      "cell_type": "markdown",
      "metadata": {
        "id": "-3fzlaD7BLb5"
      },
      "source": []
    },
    {
      "cell_type": "markdown",
      "metadata": {
        "id": "AeoUzEhdBg6w"
      },
      "source": []
    }
  ],
  "metadata": {
    "colab": {
      "provenance": []
    },
    "kernelspec": {
      "display_name": "work",
      "language": "python",
      "name": "python3"
    },
    "language_info": {
      "codemirror_mode": {
        "name": "ipython",
        "version": 3
      },
      "file_extension": ".py",
      "mimetype": "text/x-python",
      "name": "python",
      "nbconvert_exporter": "python",
      "pygments_lexer": "ipython3",
      "version": "3.9.21"
    }
  },
  "nbformat": 4,
  "nbformat_minor": 0
}
