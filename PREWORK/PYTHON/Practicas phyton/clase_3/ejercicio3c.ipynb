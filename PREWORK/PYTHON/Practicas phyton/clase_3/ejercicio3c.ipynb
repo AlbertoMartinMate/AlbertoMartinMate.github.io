{
  "cells": [
    {
      "cell_type": "markdown",
      "metadata": {
        "id": "5NYvPM-jSOUJ"
      },
      "source": []
    },
    {
      "cell_type": "markdown",
      "metadata": {
        "id": "6IjLAl46SfWX"
      },
      "source": [
        "BASE DE DATOS DE UN COLEGIO:\n",
        "Trabajas en colegio y estas encargado de mantener un seguimiento de las notas de los\n",
        "estudiantes de un clase. En tu base de datos tienes una lista con los nombres de los estudiantes y\n",
        "para cada estudiante debes guardar sus notas provenientes de deberes, exámenes y proyectos.\n",
        "También necesitas calcular a nota media de cada estudiante y la nota media de la clase al\n",
        "completo.\n",
        "Pista: Para resolver este problema puedes usar una lista anidada donde guardes las notas para\n",
        "cada estudiante. Entonces puedes usar un bucle para recorrer la lista de listas y calcular la nota\n",
        "media de cada estudiante. También puedes usar otro bucle para calcular la nota media de toda la\n",
        "clase."
      ]
    },
    {
      "cell_type": "code",
      "execution_count": null,
      "metadata": {
        "id": "MCW08xjjToxH"
      },
      "outputs": [],
      "source": [
        "claseA=[\"eduardo\",\"luis\",\"sebastian\",\"roberto\"]\n",
        "claseB=[\"pedro\",\"jesus\",\"toño\",\"ana\"]\n",
        "claseC=[\"maria\",\"rodrigo\",\"alberto\",\"gonzalo\"]\n",
        "alumnos=[\"eduardo\", \"luis\", \"sebastian\", \"roberto\", \"pedro\", \"jesus\", \"toño\", \"ana\", \"maria\", \"rodrigo\", \"alberto\", \"gonzalo\"]\n",
        "notas_deberes=[6, 6.5, 7.5, 8, 8.5, 9, 9.5, 10, 5, 5.5, 6, 4 ]\n",
        "notas_examenes=[5, 5.5, 6, 6.5, 7, 6.5, 6, 5.5, 5, 4.5, 4, 3.5]\n",
        "notas_proyecto=[3.5, 4, 4.5, 5, 5.5, 6, 6.5, 7, 7.5, 8, 8.5, 9]\n",
        "notas_media=0\n",
        "nota_media_claseA=0\n",
        "nota_media_claseB=0\n",
        "nota_media_claseC=0\n",
        "\n",
        "#clacular nota media del alumno\n",
        "\n",
        "i=0\n",
        "\n",
        "for i in range(len(alumnos)):\n",
        "  nota_media =(notas_deberes[i] + notas_examenes[i] + notas_proyecto[i])/3\n",
        "  print(f\"Nota media de {alumnos[i]}: {nota_media:.2f}\")\n",
        "\n",
        "  #calcular nota media de la clase\n",
        "\n",
        "for i in range(4):  #4 primeros alumnos\n",
        "  nota_media =(notas_deberes[i] + notas_examenes[i] + notas_proyecto[i])/3\n",
        "  nota_media_claseA += (nota_media/4) #4 alumnos\n",
        "\n",
        "\n",
        "for i in range(4,8):  #4 segundos alumnos\n",
        "  nota_media =(notas_deberes[i] + notas_examenes[i] + notas_proyecto[i])/3\n",
        "  nota_media_claseB += (nota_media/4) #4 alumnos\n",
        "\n",
        "for i in range(8,12):  #4 terceros alumnos\n",
        "  nota_media =(notas_deberes[i] + notas_examenes[i] + notas_proyecto[i])/3\n",
        "  nota_media_claseC += (nota_media/4) #4 alumnos\n",
        "\n",
        "print(\"\")\n",
        "print(f\"Nota media de la clase A: {nota_media_claseA:.2f}\")\n",
        "print(f\"Nota media de la clase B: {nota_media_claseB:.2f}\")\n",
        "print(f\"Nota media de la clase C: {nota_media_claseC:.2f}\")\n"
      ]
    },
    {
      "cell_type": "markdown",
      "metadata": {
        "id": "9ZW6DHw8Smr3"
      },
      "source": []
    },
    {
      "cell_type": "code",
      "execution_count": null,
      "metadata": {
        "id": "KCStl28Hyj1F"
      },
      "outputs": [],
      "source": [
        "#OTRA FORMA,  EXPLICADA EN CLASE\n",
        "\n",
        "data_base=[\"Eduardo\",[6,5,3.5]],[\"Luis\",[6.5,5.5,4]],[\"Sebastian\",[7.5,6,4.5]],[\"Roberto\",[8,6.5,5]]\n",
        "media=0\n",
        "sumatorio_notas=0\n",
        "nota_media=0\n",
        "alumnos=[]\n",
        "for data in data_base:\n",
        "    nombre=data[0]\n",
        "    alumnos.append(nombre)\n",
        "    notas=data[1]\n",
        "    media=sum(notas)/(len(notas))\n",
        "    sumatorio_notas=sumatorio_notas+media\n",
        "    print(f\"El alumno {nombre}, tiene una nota media de {media:.2f}\")\n",
        "\n",
        "nota_media=sumatorio_notas/(len(alumnos))\n",
        "print(f\"La nota media de la clase es de {nota_media:.2f}\")\n",
        "\n"
      ]
    },
    {
      "cell_type": "code",
      "execution_count": null,
      "metadata": {
        "id": "mYPWwBCdgg81"
      },
      "outputs": [],
      "source": [
        "#PIDIENDO INPUTS Y DEMAS\n",
        "\n",
        "estudiantes=[\"Eduardo\", \"Luis\", \"Sebastian\", \"Roberto\"]\n",
        "data_base=[]\n",
        "alumnos=[]\n",
        "sumatorio_notas=0\n",
        "\n",
        "for estudiante in estudiantes:\n",
        "  notas=[]\n",
        "  print(f\"Ingrese las notas de {estudiante}\")\n",
        "  deberes= float(input(\"Introduce la nota obtenida en deberes: \"))\n",
        "  notas.append(deberes)\n",
        "  proyecto= float(input(\"Introduce la nota obtenida en el proyecto: \"))\n",
        "  notas.append(proyecto)\n",
        "  examen= float(input(\"Introduce la nota obtenida en el examen: \"))\n",
        "  notas.append(examen)\n",
        "\n",
        "  print(estudiante, notas)\n",
        "  data_base.append([estudiante, notas])\n",
        "print(data_base)\n",
        "\n",
        "#y aqui sumamos lo del ejercicio anterior\n",
        "\n",
        "for data in data_base:\n",
        "    nombre=data[0]\n",
        "    alumnos.append(nombre)\n",
        "    notas=data[1]\n",
        "    media=sum(notas)/(len(notas))\n",
        "    sumatorio_notas=sumatorio_notas+media\n",
        "    print(f\"El alumno {nombre}, tiene una nota media de {media:.2f}\")\n",
        "\n",
        "nota_media=sumatorio_notas/(len(alumnos))\n",
        "print(f\"La nota media de la clase es de {nota_media:.2f}\")"
      ]
    },
    {
      "cell_type": "markdown",
      "metadata": {
        "id": "tF1R6xdaSYw4"
      },
      "source": [
        "\n",
        "ENCRIPTACIÓN ROT13:\n",
        "El abecedario latino es un sistema de escritura alfabético más usado del mundo hoy en día. Se\n",
        "compone de 26 letras principales, más ciertas modificaciones y letras adicionales según el idioma\n",
        "del que se trate (por ejemplo, en castellano y gallego se incluye la ”ñ”, en portugués, francés y\n",
        "catalán la ”Ç”, en alemán la ”ß”, etc.).\n",
        "Aplicar el cifrado ROT13 a un texto se reduce a examinar sus caracteres alfabéticos y sustituirlos\n",
        "por la letra que está 13 posiciones por delante en el alfabeto, volviendo al principio si es necesario\n",
        "y conservando las mayúsculas y minúsculas: a se convierte en n, B se convierte en O, y así hasta\n",
        "la Z, que se convierte en M. Solo quedan afectadas las 26 letras principales que aparecen en el\n",
        "alfabeto latino; los números, símbolos, espacios y otros caracteres se dejan igual.\n",
        "\t \t [a,b,c,d,e,f,g,h,i,j,k,l,m] \t\t \t [H, O, L, A]\n",
        " ROT13\n",
        "\t \t [n,o,p,q,r,s,t,u,v,w,x,y,z]\t\t \t [U, B, Y, N]\n",
        "1. Desarrolla un script que recibiendo de entrada una cadena de caracteres devuelva el texto\n",
        "codificado según el cifrado ROT13\n",
        "2. Desarrolla ahora un script que compare dos cadenas de caracteres y nos diga si una de ellas\n",
        "esta codificación ROT13 de la otra."
      ]
    },
    {
      "cell_type": "code",
      "execution_count": 2,
      "metadata": {
        "colab": {
          "base_uri": "https://localhost:8080/",
          "height": 211
        },
        "id": "4lX7MBRdVmcm",
        "outputId": "954a62fe-3cc4-42d8-9581-d4920bd81c83"
      },
      "outputs": [
        {
          "name": "stdout",
          "output_type": "stream",
          "text": [
            "u\n",
            "b\n",
            "y\n",
            "n\n"
          ]
        }
      ],
      "source": [
        "#-->1Desarrolla un script que recibiendo de entrada una cadena de caracteres devuelva el texto codificado según el cifrado ROT13\n",
        "\n",
        "alfabeto=[\"a\",\"b\",\"c\",\"d\",\"e\",\"f\",\"g\",\"h\",\"i\",\"j\",\"k\",\"l\",\"m\",\"n\",\"o\",\"p\",\"q\",\"r\",\"s\",\"t\",\"u\",\"v\",\"w\",\"x\",\"y\",\"z\"]\n",
        "rot13=[\"n\",\"o\",\"p\",\"q\",\"r\",\"s\",\"t\",\"u\",\"v\",\"w\",\"x\",\"y\",\"z\",\"a\",\"b\",\"c\",\"d\",\"e\",\"f\",\"g\",\"h\",\"i\",\"j\",\"k\",\"l\",\"m\"]\n",
        "palabra=\"hola\"\n",
        "resultado=\"\"\n",
        "\n",
        "for letra in palabra:\n",
        "   if letra in alfabeto:\n",
        "     indice=alfabeto.index(letra)\n",
        "     resultado=rot13[indice]\n",
        "     print(resultado)\n",
        "\n",
        "\n",
        "\n",
        "\n"
      ]
    },
    {
      "cell_type": "code",
      "execution_count": 14,
      "metadata": {
        "colab": {
          "base_uri": "https://localhost:8080/",
          "height": 211
        },
        "id": "Sgj37rYZS0bp",
        "outputId": "900ff09c-e598-4ab2-e13a-2946f2d1b10b"
      },
      "outputs": [
        {
          "name": "stdout",
          "output_type": "stream",
          "text": [
            "La palabra pon con respecto a cba esta codificada en el lenguaje ROT13\n"
          ]
        }
      ],
      "source": [
        "#-->2.-Desarrolla ahora un script que compare dos cadenas de caracteres y nos diga si una de ellas esta codificación ROT13 de la otra.\n",
        "alfabeto=[\"a\",\"b\",\"c\",\"d\",\"e\",\"f\",\"g\",\"h\",\"i\",\"j\",\"k\",\"l\",\"m\",\"n\",\"o\",\"p\",\"q\",\"r\",\"s\",\"t\",\"u\",\"v\",\"w\",\"x\",\"y\",\"z\"]\n",
        "alfabeto_rot13=[\"n\",\"o\",\"p\",\"q\",\"r\",\"s\",\"t\",\"u\",\"v\",\"w\",\"x\",\"y\",\"z\",\"a\",\"b\",\"c\",\"d\",\"e\",\"f\",\"g\",\"h\",\"i\",\"j\",\"k\",\"l\",\"m\"]\n",
        "cadena1=\"pon\"\n",
        "codigo1=[]\n",
        "codigo2=[]\n",
        "cadena2=\"cba\"\n",
        "rot13=False\n",
        "\n",
        "if (len(cadena1)) == (len(cadena2)):\n",
        "\n",
        "  for i in range(len(cadena1)):\n",
        "    letra=cadena1[i]\n",
        "    if letra in alfabeto:\n",
        "      posicion1=alfabeto.index(letra)\n",
        "      codigo1.append(posicion1)\n",
        "\n",
        "\n",
        "  for j in range(len(cadena2)):\n",
        "    string=cadena2[j]\n",
        "    if string in alfabeto_rot13:\n",
        "      posicion2=alfabeto_rot13.index(string)\n",
        "      codigo2.append(posicion2)\n",
        "\n",
        "  if codigo1==codigo2:\n",
        "   rot13=True\n",
        "\n",
        "  if rot13:\n",
        "   print(f\"La palabra {cadena1} con respecto a {cadena2} esta codificada en el lenguaje ROT13\")\n",
        "  else:\n",
        "   print(f\"La palabra {cadena1} con respecto a {cadena2} NO esta codificada en el lenguaje ROT13\")\n",
        "\n",
        "else:\n",
        "  print(f\"La palabra {cadena1} con respecto a {cadena2} NO esta codificada en el lenguaje ROT13\")\n"
      ]
    },
    {
      "cell_type": "code",
      "execution_count": null,
      "metadata": {},
      "outputs": [],
      "source": []
    }
  ],
  "metadata": {
    "colab": {
      "provenance": []
    },
    "kernelspec": {
      "display_name": "work",
      "language": "python",
      "name": "python3"
    },
    "language_info": {
      "codemirror_mode": {
        "name": "ipython",
        "version": 3
      },
      "file_extension": ".py",
      "mimetype": "text/x-python",
      "name": "python",
      "nbconvert_exporter": "python",
      "pygments_lexer": "ipython3",
      "version": "3.9.21"
    }
  },
  "nbformat": 4,
  "nbformat_minor": 0
}
