{
 "cells": [
  {
   "cell_type": "markdown",
   "metadata": {},
   "source": [
    "#-->1. Escribe un programa en Python para encontrar los elementos duplicados de una lista,\n",
    "#añadirlos a una nueva lista y borrarlos de la lista. Después imprime una lista con tan solo los\n",
    "#elementos únicos. "
   ]
  },
  {
   "cell_type": "code",
   "execution_count": 4,
   "metadata": {},
   "outputs": [
    {
     "name": "stdout",
     "output_type": "stream",
     "text": [
      "La lista original es:  [6, 7, 9, 11, 2, 3, 8, 9, 10, 11, 6, 2]\n",
      "Los elementos unicos son:  [7, 3, 8, 10]\n",
      "Los elementos duplicados son:  [6, 9, 11, 2]\n",
      "La nueva lista es : [7, 3, 8, 9, 10, 11, 6, 2]\n"
     ]
    }
   ],
   "source": [
    "\n",
    "lista= [6,7,9,11,2,3,8,9,10,11,6,2]\n",
    "print(\"La lista original es: \",lista)\n",
    "elementos_duplicados=[]\n",
    "elementos_unicos=[]\n",
    "\n",
    "for elemento in lista:\n",
    "    if lista.count(elemento)>1:\n",
    "      if elemento not in elementos_duplicados:\n",
    "         elementos_duplicados.append(elemento)\n",
    "\n",
    "    else:\n",
    "       elementos_unicos.append(elemento)\n",
    "\n",
    "for elemento in elementos_duplicados:\n",
    "   lista.remove(elemento)\n",
    "\n",
    "print(\"Los elementos unicos son: \", elementos_unicos)\n",
    "print(\"Los elementos duplicados son: \", elementos_duplicados)\n",
    "print (\"La nueva lista es :\", lista)\n",
    "    "
   ]
  },
  {
   "cell_type": "markdown",
   "metadata": {},
   "source": [
    "2.Escribe un programa en Python para unir dos listas y ordenarlas en orden ascendente."
   ]
  },
  {
   "cell_type": "code",
   "execution_count": 5,
   "metadata": {},
   "outputs": [
    {
     "name": "stdout",
     "output_type": "stream",
     "text": [
      "[6, 7, 14, 18, 21, 24, 28, 30, 35, 36, 42, 42, 48, 49, 54, 56, 60, 63, 70]\n"
     ]
    }
   ],
   "source": [
    "lista1=[7, 14, 21, 28, 35, 42, 49, 56, 63, 70]\n",
    "lista2=[6, 18, 24, 30, 36, 42, 48, 54, 60]\n",
    "lista_combinada= lista1 + lista2\n",
    "lista_combinada.sort()\n",
    "print(lista_combinada)"
   ]
  },
  {
   "cell_type": "markdown",
   "metadata": {},
   "source": [
    "3. Escribe un script que encuentre el segundo número más grande de una lista."
   ]
  },
  {
   "cell_type": "code",
   "execution_count": 10,
   "metadata": {},
   "outputs": [
    {
     "name": "stdout",
     "output_type": "stream",
     "text": [
      "9\n"
     ]
    }
   ],
   "source": [
    "lista=[4, 5, 6, 1, 3, 8, 9, 10]\n",
    "   \n",
    "lista.sort(reverse=True) #tb podemos hacer solo el sort e imprimir el penultimo[-2]\n",
    "\n",
    "print(lista[1])"
   ]
  },
  {
   "cell_type": "markdown",
   "metadata": {},
   "source": [
    "4. Crea un script que cuente el número de elementos más grandes que un determinado número dado por el usuario (supón una lista numérica)."
   ]
  },
  {
   "cell_type": "code",
   "execution_count": 1,
   "metadata": {},
   "outputs": [
    {
     "name": "stdout",
     "output_type": "stream",
     "text": [
      "8\n"
     ]
    }
   ],
   "source": [
    "numeros=[3, 5, 8, 9, 12, 7, 27, 91, 50]\n",
    "numero_objetivo= 4\n",
    "contador=0\n",
    "\n",
    "for elemento in numeros:\n",
    "\n",
    "    if elemento>numero_objetivo:\n",
    "        contador+=1\n",
    "\n",
    "print(contador)\n"
   ]
  },
  {
   "cell_type": "markdown",
   "metadata": {},
   "source": [
    "5. Crea un script dado un número introducido por el usuario o determinado al inicio del programa, realice la suma de aquellos números que sean divisibles por este."
   ]
  },
  {
   "cell_type": "code",
   "execution_count": null,
   "metadata": {},
   "outputs": [
    {
     "name": "stdout",
     "output_type": "stream",
     "text": [
      "51\n"
     ]
    }
   ],
   "source": [
    "numeros=[3, 5, 8, 9, 12, 7, 27, 91, 50]\n",
    "divisor= 3\n",
    "sumatorio=0\n",
    "\n",
    "for num in numeros:\n",
    "    if num%divisor==0:\n",
    "        sumatorio+=num\n",
    "\n",
    "print(sumatorio)\n"
   ]
  },
  {
   "cell_type": "markdown",
   "metadata": {},
   "source": [
    "6. Escribe un script que pida un número al usuario y dada una lista encuentre el número más alto que es inferior al número introducido o determinado al inicio del programa."
   ]
  },
  {
   "cell_type": "code",
   "execution_count": 8,
   "metadata": {},
   "outputs": [
    {
     "name": "stdout",
     "output_type": "stream",
     "text": [
      "8\n"
     ]
    }
   ],
   "source": [
    "numeros=[3, 5, 8, 9, 12, 7, 27, 91, 50]\n",
    "numero_objetivo=9\n",
    "numeros.sort()\n",
    "\n",
    "for num in numeros:\n",
    "\n",
    "    if num<numero_objetivo:\n",
    "\n",
    "        resultado=num\n",
    "\n",
    "print(resultado)\n",
    "\n"
   ]
  },
  {
   "cell_type": "markdown",
   "metadata": {},
   "source": [
    "7. Crea un script que extraiga los elementos comunes entre dos listas."
   ]
  },
  {
   "cell_type": "code",
   "execution_count": 9,
   "metadata": {},
   "outputs": [
    {
     "name": "stdout",
     "output_type": "stream",
     "text": [
      "[42]\n"
     ]
    }
   ],
   "source": [
    "lista1=[7, 14, 21, 28, 35, 42, 49, 56, 63, 70]\n",
    "lista2=[6, 18, 24, 30, 36, 42, 48, 54, 60]\n",
    "\n",
    "comunes=[]\n",
    "\n",
    "for num in lista1:\n",
    "    if num in lista2:\n",
    "        comunes.append(num)\n",
    "\n",
    "print(comunes)\n",
    "   "
   ]
  },
  {
   "cell_type": "markdown",
   "metadata": {},
   "source": [
    "8. Crea un script que cuente el número de apariciones de un elemento de una lista en dicha lista (P.e. en la lista lista=[23, 65, 23] el número de apariciones de 23 es 2)"
   ]
  },
  {
   "cell_type": "code",
   "execution_count": 16,
   "metadata": {},
   "outputs": [
    {
     "name": "stdout",
     "output_type": "stream",
     "text": [
      "3\n",
      "El número  6  aparece 2  veces\n",
      "El número  7  aparece 1  veces\n",
      "El número  9  aparece 2  veces\n",
      "El número  11  aparece 3  veces\n",
      "El número  2  aparece 2  veces\n",
      "El número  3  aparece 1  veces\n",
      "El número  8  aparece 1  veces\n",
      "El número  9  aparece 2  veces\n",
      "El número  10  aparece 1  veces\n",
      "El número  11  aparece 3  veces\n",
      "El número  6  aparece 2  veces\n",
      "El número  2  aparece 2  veces\n",
      "El número  11  aparece 3  veces\n"
     ]
    }
   ],
   "source": [
    "lista= [6,7,9,11,2,3,8,9,10,11,6,2,11]\n",
    "objetivo=11\n",
    "\n",
    "print(lista.count(objetivo))\n",
    "\n",
    "for elemento in lista:\n",
    "    print(\"El número \", elemento, \" aparece\", lista.count(elemento), \" veces\")"
   ]
  },
  {
   "cell_type": "markdown",
   "metadata": {},
   "source": [
    "9. Escribe un programa que lea una lista de enteros y cree una nueva lista que contenga solo números positivos de la lista original."
   ]
  },
  {
   "cell_type": "code",
   "execution_count": 18,
   "metadata": {},
   "outputs": [
    {
     "name": "stdout",
     "output_type": "stream",
     "text": [
      "La lista original es:  [6, -2, 4, -10, 5, 3, 1, 15, -30]\n",
      "La lista de numeros positivos es:  [6, 4, 5, 3, 1, 15]\n"
     ]
    }
   ],
   "source": [
    "lista=[6,-2,4,-10,5,3,1,15,-30]\n",
    "lista_positivos=[]\n",
    "\n",
    "for num in lista:\n",
    "\n",
    "    if num>=0:\n",
    "        lista_positivos.append(num)\n",
    "\n",
    "print(\"La lista original es: \", lista)\n",
    "print(\"La lista de numeros positivos es: \", lista_positivos)"
   ]
  },
  {
   "cell_type": "markdown",
   "metadata": {},
   "source": [
    "10. Crea un script que tome una lista de strings y cree una nueva lista que contenga el tamaño de los strings de la lista original."
   ]
  },
  {
   "cell_type": "code",
   "execution_count": 1,
   "metadata": {},
   "outputs": [
    {
     "name": "stdout",
     "output_type": "stream",
     "text": [
      "Mi lista de la compra son : ['setas', 'pan', 'huevos', 'leche', 'galletas', 'pan']\n",
      "El tamaño de los productos de la lista de la compra son:  [5, 3, 6, 5, 8, 3]\n"
     ]
    }
   ],
   "source": [
    "lista_compra=[\"setas\", \"pan\", \"huevos\", \"leche\", \"galletas\", \"pan\"]\n",
    "lista_longitudes=[]\n",
    "\n",
    "for elemento in lista_compra:\n",
    "    longitud=len(elemento)\n",
    "\n",
    "    lista_longitudes.append(longitud)\n",
    "\n",
    "print(\"Mi lista de la compra son :\", lista_compra)\n",
    "\n",
    "print(\"El tamaño de los productos de la lista de la compra son: \", lista_longitudes)\n",
    "\n",
    "\n"
   ]
  },
  {
   "cell_type": "code",
   "execution_count": 22,
   "metadata": {},
   "outputs": [
    {
     "name": "stdout",
     "output_type": "stream",
     "text": [
      "Mi lista de la compra son : ['setas', 'pan', 'huevos', 'leche', 'galletas', 'pan']\n",
      "El tamaño de los productos de la lista de la compra son:  [5, 3, 6, 5, 8, 3]\n"
     ]
    }
   ],
   "source": [
    "#sin la funcion len se podria hacer asi\n",
    "\n",
    "lista_compra=[\"setas\", \"pan\", \"huevos\", \"leche\", \"galletas\", \"pan\"]\n",
    "lista_longitudes=[]\n",
    "\n",
    "for palabra in lista_compra:\n",
    "    tamaño=0\n",
    "    for letra in palabra:\n",
    "        tamaño+=1\n",
    "    lista_longitudes.append(tamaño)\n",
    "\n",
    "print(\"Mi lista de la compra son :\", lista_compra)\n",
    "\n",
    "print(\"El tamaño de los productos de la lista de la compra son: \", lista_longitudes)"
   ]
  },
  {
   "cell_type": "markdown",
   "metadata": {},
   "source": [
    "11. Crea un programa que dada una lista de strings, devuelva otra lista con los strings en mayúscula."
   ]
  },
  {
   "cell_type": "code",
   "execution_count": 24,
   "metadata": {},
   "outputs": [
    {
     "name": "stdout",
     "output_type": "stream",
     "text": [
      "La lista original es:  ['setas', 'pan', 'huevos', 'leche', 'galletas', 'pan']\n",
      "La lista en mayusculas es la siguiente:  ['SETAS', 'PAN', 'HUEVOS', 'LECHE', 'GALLETAS', 'PAN']\n"
     ]
    }
   ],
   "source": [
    "lista_compra=[\"setas\", \"pan\", \"huevos\", \"leche\", \"galletas\", \"pan\"]\n",
    "lista_mayusculas=[]\n",
    "\n",
    "for word in lista_compra:\n",
    "    lista_mayusculas.append(word.upper())\n",
    "\n",
    "print(\"La lista original es: \", lista_compra)\n",
    "print(\"La lista en mayusculas es la siguiente: \", lista_mayusculas)"
   ]
  }
 ],
 "metadata": {
  "kernelspec": {
   "display_name": "work",
   "language": "python",
   "name": "python3"
  },
  "language_info": {
   "codemirror_mode": {
    "name": "ipython",
    "version": 3
   },
   "file_extension": ".py",
   "mimetype": "text/x-python",
   "name": "python",
   "nbconvert_exporter": "python",
   "pygments_lexer": "ipython3",
   "version": "3.9.21"
  }
 },
 "nbformat": 4,
 "nbformat_minor": 2
}
