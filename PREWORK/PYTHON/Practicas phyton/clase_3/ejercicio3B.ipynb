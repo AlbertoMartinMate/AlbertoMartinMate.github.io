{
  "cells": [
    {
      "cell_type": "markdown",
      "metadata": {
        "id": "bjg5vksJwUst"
      },
      "source": [
        "PALABRAS PROHIBIDAS: Define una lista de 5 palabras aleatorias y una lista de letras prohibidas que contenga tres letras. Filtra las palabras en tu lista original crea una nueva lista de palabras filtradas que solo contenga aquellas palabras que no tienen ninguna letra prohibida."
      ]
    },
    {
      "cell_type": "code",
      "execution_count": null,
      "metadata": {
        "colab": {
          "base_uri": "https://localhost:8080/"
        },
        "id": "6OO40-B4wkha",
        "outputId": "b35a1612-cc48-40d6-945f-fc5fe9d7867b"
      },
      "outputs": [
        {
          "name": "stdout",
          "output_type": "stream",
          "text": [
            "['leon', 'gato', 'lobo']\n"
          ]
        }
      ],
      "source": [
        "words=[\"perro\", \"leon\", \"gato\", \"pajaro\", \"tortuga\", \"lobo\"]\n",
        "forbidden_letters = [\"s\", \"p\", \"r\"]\n",
        "good_words=[]\n",
        "\n",
        "for palabra in words:\n",
        "     incluir=True\n",
        "\n",
        "     for letter in forbidden_letters: #aqui recorremos la otra lista\n",
        "          if letter in palabra:\n",
        "            incluir=False\n",
        "\n",
        "\n",
        "     if incluir:  #a la altura del segundo for\n",
        "\n",
        "        good_words.append(palabra)\n",
        "\n",
        "print(good_words)\n"
      ]
    },
    {
      "cell_type": "code",
      "execution_count": 1,
      "metadata": {
        "colab": {
          "base_uri": "https://localhost:8080/"
        },
        "id": "M0gBxkCv9g9m",
        "outputId": "6c77dc27-4107-4ef4-aee9-1f3e5f31f112"
      },
      "outputs": [
        {
          "name": "stdout",
          "output_type": "stream",
          "text": [
            "Lista original: ['perro', 'leon', 'pajaro', 'tortuga', 'lobo']\n",
            "Letras prohibidas: ['s', 'p', 'r']\n",
            "Lista filtrada: ['leon', 'lobo']\n"
          ]
        }
      ],
      "source": [
        "\n",
        "#SOLUCION DEL EJERCICIO ANTERIOR\n",
        "\n",
        "palabras_aleatorias = [\"perro\", \"leon\", \"pajaro\", \"tortuga\", \"lobo\"]\n",
        "letras_prohibidas = [\"s\", \"p\", \"r\"]\n",
        "# inicializamos una lista vacia donde\n",
        "# añadiremos las palabras filtradas\n",
        "lista_filtrada = []\n",
        "\n",
        "# --- Bucle para recorrer la lista de palabras\n",
        "for palabra in palabras_aleatorias:\n",
        "    # en principio incluiremos la palabra a no ser que\n",
        "    # se compruebe que contiene una letra prohibida\n",
        "    incluir = True\n",
        "    # Bucle para comprobar si los objetos tiene alguna letra prohibida.\n",
        "    for letras_prohibida in letras_prohibidas:\n",
        "        ## si tiene letra prohibida no lo incluimos en la lista filtrada\n",
        "        if letras_prohibida in palabra:\n",
        "            incluir = False\n",
        "\n",
        "    # comprobamos si debemos incluir la palabra. En caso de\n",
        "    # que no tenga letras prohibidas (incluir = True) la incluimos\n",
        "    if incluir:\n",
        "        lista_filtrada.append(palabra)\n",
        "\n",
        "# --- Imprimimos por pantalla las tres listas.\n",
        "print(\"Lista original:\", palabras_aleatorias)\n",
        "print(\"Letras prohibidas:\", letras_prohibidas)\n",
        "print(\"Lista filtrada:\", lista_filtrada)"
      ]
    },
    {
      "cell_type": "markdown",
      "metadata": {
        "id": "grLQfc6BEXwC"
      },
      "source": [
        "NUMEROS PRIMOS 2: Dado una lista de números enteros, escribe un script en Python que devuelva una nueva lista con los números primos de la lista original. Además, el script debe devolver el número total de números primos encontrados y la suma de los números primos encontrados"
      ]
    },
    {
      "cell_type": "code",
      "execution_count": null,
      "metadata": {
        "colab": {
          "base_uri": "https://localhost:8080/"
        },
        "id": "X1Kr0MJxE5UU",
        "outputId": "a6a4c3a9-4417-4d3b-ab26-2dc05ae1802d"
      },
      "outputs": [
        {
          "name": "stdout",
          "output_type": "stream",
          "text": [
            "Los números primos son :  [23, 17, 53, 37, 13]\n",
            "La cantidad de números primos que hay en la lista es de:  5\n",
            "La suma de todos los números primos es de:  143\n"
          ]
        }
      ],
      "source": [
        "integars_numbers=[23, 36, 17, 48, 53, 20, 37, 42, 13, 25]\n",
        "primos_numbers=[]\n",
        "len_primos_numbers=0 #esto lo podriamos evitar haciendo luego el len primos\n",
        "sumatorio_primos=0 #esto lo podriamos evitar con la funcion sum(primos)\n",
        "\n",
        "for num in integars_numbers:\n",
        "  primo=True\n",
        "\n",
        "  for i in range(2,num):\n",
        "\n",
        "    if num % i==0:\n",
        "      primo=False\n",
        "\n",
        "\n",
        "\n",
        "  if primo==True:\n",
        "   primos_numbers.append(num)\n",
        "   len_primos_numbers+=1\n",
        "   sumatorio_primos=sumatorio_primos + num\n",
        "\n",
        "\n",
        "print(\"Los números primos son : \",primos_numbers)\n",
        "print(\"La cantidad de números primos que hay en la lista es de: \", len_primos_numbers)\n",
        "print(\"La suma de todos los números primos es de: \", sumatorio_primos)\n"
      ]
    },
    {
      "cell_type": "markdown",
      "metadata": {
        "id": "tg8lYbnXnZL6"
      },
      "source": [
        "SCRABBLE: Supongamos una lista de de caracteres llamada “palabras“ que representa una mano de Scrabble. Cada string contiene dos caracteres: el primer carácter es la letra de una ficha y el segundo el numero que representa los puntos de la ficha. Por ejemplo, el string \"A5\" representa la ficha con la letra A y un valor de 5 puntos. Crea un script que calcule el valor total de los puntos en una mano de scrabble. El valor total será la suma de los puntos de todas las fichas de la mano."
      ]
    },
    {
      "cell_type": "code",
      "execution_count": 2,
      "metadata": {
        "colab": {
          "base_uri": "https://localhost:8080/"
        },
        "id": "vwT4FqLyC8vC",
        "outputId": "146b7453-ee43-48f5-862c-79aba9002f21"
      },
      "outputs": [
        {
          "name": "stdout",
          "output_type": "stream",
          "text": [
            "22\n"
          ]
        }
      ],
      "source": [
        "lista_letras=[[\"a\", 5], [\"c\", 6], [\"e\", 4], [\"d\", 3], [\"l\", 7], [\"m\", 8], [\"r\", 4], [\"p\", 6], [\"s\", 2]]\n",
        "palabra_scrabble= \"chuleta\"\n",
        "valor_palabra=0\n",
        "\n",
        "for letra in palabra_scrabble: #primero analizamos la palabra scrabble\n",
        "    for lista in lista_letras:  #recorremos ahora la lista\n",
        "      if lista[0]==letra:       #si valor [0] q es la letra\n",
        "       valor_palabra+=lista[1]   #sumamos el valor[1] q es el numero\n",
        "\n",
        "print(valor_palabra)\n",
        "\n"
      ]
    },
    {
      "cell_type": "code",
      "execution_count": null,
      "metadata": {},
      "outputs": [],
      "source": [
        "#SOLUCION EJ. ANTERIOR. OTRA FORMA\n",
        "\n",
        "# --- Lista con las fichas de scrabble\n",
        "\n",
        "mano_scrabble = [\"A5\", \"B3\", \"C4\", \"H8\", \"D10\"]\n",
        "\n",
        "# --- bucle en el que recorremos las fichas y sumamos los puntos\n",
        "# iniciamos la variable puntos en 0\n",
        "puntos = 0\n",
        "# recorremos la lista con las fichas de scrabble\n",
        "for ficha in mano_scrabble:\n",
        "    # sumamos lo puntos de cada una de las fichas\n",
        "    puntos = puntos + int(ficha[1:]) #para q vaya de posicion 1 hasta el final (x si hay un valor >9)\n",
        "\n",
        "# --- imprimir el numero total de puntos\n",
        "\n",
        "print(\"El numero total de puntos de tu mano es:\", puntos)"
      ]
    },
    {
      "cell_type": "markdown",
      "metadata": {
        "id": "0xyrESXjwajs"
      },
      "source": [
        " EL COMERCIAL: Eres un comercial trabajando para una compañía que vende diversos productos. Quieres crear un programa para realizar un seguimiento de los productos que has vendido y el valor total de las ventas. Supongamos que hay un total de 10 productos. Tú has vendido 5 de estos productos en las siguientes cantidades: Producto 1: 3 unidades Producto 2: 1 unidad Producto 5: 7 unidades Producto 6: 2 unidades Producto 9 : 4 unidades Los precios de cada uno de estos productos son como siguen: Producto 1: 30.0 EU Producto 6: 44.0 EU Producto 2: 9.8 EU Producto 7: 21.2 EU Producto 3: 42.5 EU Producto 8: 53.2 EU Producto 4: 32.6 EU Producto 9: 25.3 EU Producto 5: 71.5 EU Producto 10: 57.8 EU Crea un script que dada una lista con los productos, sus precios y las unidades vendidas, imprima la cantidad total de ventas, el dinero facturado por producto y el dinero total."
      ]
    },
    {
      "cell_type": "code",
      "execution_count": null,
      "metadata": {
        "colab": {
          "base_uri": "https://localhost:8080/"
        },
        "id": "oOlwxvkgvkOC",
        "outputId": "18600c0b-5316-4ffe-9866-ce0238215483"
      },
      "outputs": [
        {
          "name": "stdout",
          "output_type": "stream",
          "text": [
            "Por el producto  1 , vendido 3 veces,  al precio de  30 €, has obtenido una cantidad de  90 €\n",
            "Por el producto  2 , vendido 1 veces,  al precio de  9.8 €, has obtenido una cantidad de  9.8 €\n",
            "Por el producto  5 , vendido 7 veces,  al precio de  71.5 €, has obtenido una cantidad de  500.5 €\n",
            "Por el producto  6 , vendido 2 veces,  al precio de  44 €, has obtenido una cantidad de  88 €\n",
            "Por el producto  9 , vendido 4 veces,  al precio de  25.3 €, has obtenido una cantidad de  101.2 €\n",
            "En total has vendido:  17 productos, y has echo un total de 789.5 €\n"
          ]
        }
      ],
      "source": [
        "productos=[1,2,5,6,9]\n",
        "cantidades=[3,1,7,2,4]\n",
        "precios=[30,9.8,71.5,44,25.3]\n",
        "totalventas=0\n",
        "dinerototal=0\n",
        "i=0\n",
        "\n",
        "for i in range(len(productos)):\n",
        "  totalventas=cantidades[i]*precios[i]\n",
        "  dinerototal+=totalventas\n",
        "  print(\"Por el producto \", productos[i], \", vendido\", cantidades[i], \"veces, \", \"al precio de \", precios[i], \"€, has obtenido una cantidad de \", totalventas, \"€\")\n",
        "\n",
        "\n",
        "print(\"En total has vendido: \", sum(cantidades), \"productos, y has echo un total de\", dinerototal, \"€\")\n",
        "\n"
      ]
    }
  ],
  "metadata": {
    "colab": {
      "provenance": []
    },
    "kernelspec": {
      "display_name": "work",
      "language": "python",
      "name": "python3"
    },
    "language_info": {
      "codemirror_mode": {
        "name": "ipython",
        "version": 3
      },
      "file_extension": ".py",
      "mimetype": "text/x-python",
      "name": "python",
      "nbconvert_exporter": "python",
      "pygments_lexer": "ipython3",
      "version": "3.9.21"
    }
  },
  "nbformat": 4,
  "nbformat_minor": 0
}
