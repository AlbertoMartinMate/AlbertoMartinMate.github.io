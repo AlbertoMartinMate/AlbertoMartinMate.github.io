{
  "cells": [
    {
      "cell_type": "markdown",
      "metadata": {
        "id": "1vhe7bv7pf3W"
      },
      "source": [
        "Crea una clase \"CuentaBancaria\" con atributos como número de cuenta y\n",
        "saldo. Implementa métodos para depositar y retirar dinero, y muestra el\n",
        "saldo actual."
      ]
    },
    {
      "cell_type": "code",
      "execution_count": 3,
      "metadata": {
        "colab": {
          "base_uri": "https://localhost:8080/"
        },
        "id": "mQqn-B2qpewp",
        "outputId": "1fae5473-5eed-43a2-e2fa-9e53d351e866"
      },
      "outputs": [
        {
          "name": "stdout",
          "output_type": "stream",
          "text": [
            "El número de cuenta 0465, cuenta con un saldo de 0 euros.\n",
            "Se depositaron 2000 EU. Saldo actual: 2000 EU\n",
            "El número de cuenta 0465, cuenta con un saldo de 2000 euros.\n",
            "Se retiraron 1800 EU. Saldo actual: 200 EU\n",
            "El número de cuenta 0465, cuenta con un saldo de 200 euros.\n"
          ]
        }
      ],
      "source": [
        "class CuentaBancaria:\n",
        "\n",
        "  def __init__(self, num_cuenta, saldo=0):\n",
        "    self.num_cuenta=num_cuenta\n",
        "    self.saldo=saldo\n",
        "\n",
        "  def depositar(self, monto):\n",
        "    self.saldo +=monto\n",
        "    print(f\"Se depositaron {monto} EU. Saldo actual: {self.saldo} EU\")\n",
        "\n",
        "  def retirar(self, monto):\n",
        "    if self.saldo>=monto:\n",
        "      self.saldo -= monto\n",
        "      print(f\"Se retiraron {monto} EU. Saldo actual: {self.saldo} EU\")\n",
        "    else:\n",
        "      print(\"Saldo insuficiente\")\n",
        "\n",
        "  def __str__(self):\n",
        "    return f\"El número de cuenta {self.num_cuenta}, cuenta con un saldo de {self.saldo} euros.\"\n",
        "\n",
        "\n",
        "mi_cuenta = CuentaBancaria(\"0465\")\n",
        "print(mi_cuenta)\n",
        "\n",
        "mi_cuenta.depositar(2000)\n",
        "print(mi_cuenta)\n",
        "\n",
        "mi_cuenta.retirar(1800)\n",
        "print(mi_cuenta)\n"
      ]
    },
    {
      "cell_type": "markdown",
      "metadata": {
        "id": "pJUuh7A7466W"
      },
      "source": [
        "LISTA DE TAREAS\n",
        "Crea una clase \"ListaTareas\" que contenga una lista de tareas pendientes.\n",
        "Implementa métodos para agregar una tarea, marcar una tarea como\n",
        "completada y mostrar todas las tareas"
      ]
    },
    {
      "cell_type": "code",
      "execution_count": null,
      "metadata": {
        "colab": {
          "base_uri": "https://localhost:8080/"
        },
        "id": "phHUb5ni5Fac",
        "outputId": "6670275c-e5db-438b-d902-fc09f9a07206"
      },
      "outputs": [
        {
          "name": "stdout",
          "output_type": "stream",
          "text": [
            "El listado de tareas es el siguiente:\n",
            "- Lavar platos\n",
            "- Fregar\n",
            "- Sacar al perro\n",
            "- Pasar aspiradora\n",
            "El listado de tareas es el siguiente:\n",
            "- Lavar platos\n",
            "- Fregar\n",
            "- Sacar al perro\n",
            "- Pasar aspiradora\n",
            "- Barrer cocina\n",
            "El listado de tareas es el siguiente:\n",
            "- Lavar platos\n",
            "- Fregar --> Completada\n",
            "- Sacar al perro\n",
            "- Pasar aspiradora\n",
            "- Barrer cocina\n"
          ]
        }
      ],
      "source": [
        "class ListaTareas:\n",
        "  def __init__(self, tareas):\n",
        "    self.tareas=[\"Lavar platos\", \"Fregar\", \"Sacar al perro\", \"Pasar aspiradora\"] #contener una lista de tareas pendientes\n",
        "\n",
        "  def añadir_tareas(self, tarea_pendiente): #metodo para agregar tarea\n",
        "    self.tareas.append(tarea_pendiente)     #aqui elegiremos q estructura de datos utilizar\n",
        "\n",
        "  def tarea_completada(self, completada):  #metodo para marcar tarea como completada (solo 1, sino...añado al final)\n",
        "    for i in range (len(self.tareas)):\n",
        "      if self.tareas[i] == completada:\n",
        "        self.tareas[i]+=(\" --> Completada\")\n",
        "        return  # sale del método tras marcarla\n",
        "\n",
        "    else:\n",
        "        return \"Esta tarea no esta como pendiente\" #muevo el return fuera del if, ya que sino analiza la primera y si no esta termina\n",
        "\n",
        "  #imprimir todas las tareas\n",
        "  def __str__(self):\n",
        "    return \"El listado de tareas es el siguiente:\\n- \" + \"\\n- \".join(self.tareas) #concatenación o join para que sea un string bien formateado, con coma, devuelve tupla\n",
        "\n",
        "\n",
        "mis_tareas=ListaTareas([])\n",
        "print(mis_tareas)\n",
        "\n",
        "mis_tareas.añadir_tareas(\"Barrer cocina\")\n",
        "print(mis_tareas)\n",
        "\n",
        "mis_tareas.tarea_completada(\"Fregar\")\n",
        "print(mis_tareas)\n",
        "\n",
        "\"\"\"def tareas_completadas(self, *completadas):\n",
        "    for nombre in completadas:\n",
        "        encontrada = False\n",
        "        for i in range(len(self.tareas)):\n",
        "            if self.tareas[i] == nombre:\n",
        "                self.tareas[i] += \" (Completada)\"\n",
        "                encontrada = True\n",
        "                break\n",
        "        if not encontrada:\n",
        "            print(f\"La tarea '{nombre}' no está como pendiente.\")\"\"\"\n",
        "\n",
        "\n",
        "\n",
        "\n",
        "\n",
        "\n"
      ]
    },
    {
      "cell_type": "markdown",
      "metadata": {
        "id": "sXOC5fRnVYeI"
      },
      "source": [
        "TIENDA ONLINE\n",
        "Crea una clase \"Producto\" con atributos como nombre, precio y cantidad en\n",
        "stock. Luego, crea una clase \"Tienda\" que contenga una lista de productos\n",
        "disponibles y métodos para agregar productos, mostrar el inventario y\n",
        "realizar una compra."
      ]
    },
    {
      "cell_type": "code",
      "execution_count": 12,
      "metadata": {
        "id": "YJ-gjNl7Vd6q"
      },
      "outputs": [
        {
          "name": "stdout",
          "output_type": "stream",
          "text": [
            "Camiseta - Precio: 20 EU - Stock: 50\n",
            "Pantalon - Precio: 30 EU - Stock: 30\n",
            "Compra existosa. Total:40 EU\n",
            "Camiseta - Precio: 20 EU - Stock: 48\n",
            "Pantalon - Precio: 30 EU - Stock: 30\n",
            "Producto no encontrado\n",
            "Camiseta - Precio: 20 EU - Stock: 48\n",
            "Pantalon - Precio: 30 EU - Stock: 30\n",
            "no hay suficiente stock \n",
            "Camiseta - Precio: 20 EU - Stock: 48\n",
            "Pantalon - Precio: 30 EU - Stock: 30\n"
          ]
        }
      ],
      "source": [
        "class Producto:\n",
        "\n",
        "   def __init__(self, nombre, precio, stock):\n",
        "    \"\"\"creamos producto con nombre, precio,stock\"\"\"\n",
        "    self.nombre=nombre\n",
        "    self.precio=precio\n",
        "    self.stock=stock\n",
        "\n",
        "\n",
        "class Tienda: \n",
        "  \"\"\"en esta clase le vamos a pasar un objeto que va a ser de\n",
        "  clase producto y q x lo tanto va a contener estos atributos, producto ya esta\n",
        "  definido arriba, tiene q estarlo xa q no de error de interprete.\n",
        "  Metodos para agregar productos, mostrar inventario y realizar compra\"\"\"\n",
        "\n",
        "  def __init__(self):\n",
        "        self.productos = []\n",
        "  \n",
        "  def agregar_producto(self,producto):#aqui le pasamos el otro objeto\n",
        "    self.productos.append(producto)\n",
        "\n",
        "  def mostrar_inventario(self):\n",
        "    for producto in self.productos:\n",
        "      print(f\"{producto.nombre} - Precio: {producto.precio} EU - Stock: {producto.stock}\")\n",
        "    \n",
        "  def comprar_producto(self, nombre, cantidad):\n",
        "    for producto in self.productos:\n",
        "      if producto.nombre ==nombre:\n",
        "        if producto.stock>= cantidad:\n",
        "           producto.stock-=cantidad\n",
        "           print(f\"Compra existosa. Total:{producto.precio*cantidad} EU\")\n",
        "        else:\n",
        "          print(\"no hay suficiente stock \")\n",
        "        return #para que esto no nos lo imprima siempre (Producto no encontrado)\n",
        "    \n",
        "    print(\"Producto no encontrado\")\n",
        "\n",
        "\n",
        "#Ejemplo de uso\n",
        "\n",
        "tienda = Tienda()\n",
        "producto1=Producto(\"Camiseta\", 20, 50)\n",
        "producto2=Producto(\"Pantalon\", 30, 30)\n",
        "\n",
        "tienda.agregar_producto(producto1)\n",
        "tienda.agregar_producto(producto2)\n",
        "tienda.mostrar_inventario()\n",
        "\n",
        "tienda.comprar_producto(\"Camiseta\", 2)\n",
        "tienda.mostrar_inventario()\n",
        "\n",
        "tienda.comprar_producto(\"Zapatos\", 2)\n",
        "tienda.mostrar_inventario()\n",
        "\n",
        "tienda.comprar_producto(\"Pantalon\", 32)\n",
        "tienda.mostrar_inventario()"
      ]
    }
  ],
  "metadata": {
    "colab": {
      "provenance": []
    },
    "kernelspec": {
      "display_name": "work",
      "language": "python",
      "name": "python3"
    },
    "language_info": {
      "codemirror_mode": {
        "name": "ipython",
        "version": 3
      },
      "file_extension": ".py",
      "mimetype": "text/x-python",
      "name": "python",
      "nbconvert_exporter": "python",
      "pygments_lexer": "ipython3",
      "version": "3.9.21"
    }
  },
  "nbformat": 4,
  "nbformat_minor": 0
}
