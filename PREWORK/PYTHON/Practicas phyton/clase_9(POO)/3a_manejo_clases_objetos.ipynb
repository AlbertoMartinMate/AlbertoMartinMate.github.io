{
  "cells": [
    {
      "cell_type": "markdown",
      "metadata": {
        "id": "sBlfw6UMcvQj"
      },
      "source": [
        "CLASE PERSONA\n",
        "Define una clase Persona con atributos como nombre, edad y profesión. Luego, crea varios objetos de esta clase y muestra su información."
      ]
    },
    {
      "cell_type": "code",
      "execution_count": null,
      "metadata": {
        "colab": {
          "base_uri": "https://localhost:8080/"
        },
        "id": "yUskMEZDctcQ",
        "outputId": "bea9ceda-9ddd-4176-fd3b-2997c83a3e28"
      },
      "outputs": [
        {
          "name": "stdout",
          "output_type": "stream",
          "text": [
            "Nombre: Alberto. Edad: 38 años. Profesion: Desarrollo Full Stack\n",
            "Nombre: Mario. Edad: 25 años. Profesion: Bombero\n",
            "Nombre: Laura. Edad: 18 años. Profesion: Camarera\n"
          ]
        }
      ],
      "source": [
        "class Persona:\n",
        "\n",
        "    def __init__(self, nombre, edad, profesion):\n",
        "\n",
        "      self.nombre=nombre\n",
        "      self.edad=edad\n",
        "      self.profesion=profesion\n",
        "\n",
        "datos_persona1 = Persona(\"Alberto\", 38, \"Desarrollo Full Stack\")\n",
        "datos_persona2 = Persona(\"Mario\", 25, \"Bombero\")\n",
        "datos_persona3 = Persona(\"Laura\", 18, \"Camarera\")\n",
        "\n",
        "print(f\"Nombre: {datos_persona1.nombre}. Edad: {datos_persona1.edad} años. Profesion: {datos_persona1.profesion}\")\n",
        "print(f\"Nombre: {datos_persona2.nombre}. Edad: {datos_persona2.edad} años. Profesion: {datos_persona2.profesion}\")\n",
        "print(f\"Nombre: {datos_persona3.nombre}. Edad: {datos_persona3.edad} años. Profesion: {datos_persona3.profesion}\")"
      ]
    },
    {
      "cell_type": "markdown",
      "metadata": {
        "id": "5WMTlF4bgz9r"
      },
      "source": [
        "CALCULADORA BÁSICA\n",
        "Crea una clase llamada “Calculadora” con métodos para sumar, restar, multiplicar y dividir. Crea objetos de esta clase y realiza algunas operaciones básicas."
      ]
    },
    {
      "cell_type": "code",
      "execution_count": null,
      "metadata": {
        "colab": {
          "base_uri": "https://localhost:8080/"
        },
        "id": "yEWZpRypg5G6",
        "outputId": "7c76095e-9864-4ba5-b4c7-24b54c8ea21c"
      },
      "outputs": [
        {
          "name": "stdout",
          "output_type": "stream",
          "text": [
            "Suma:  10\n",
            "Resta:  -10\n",
            "Multiplicacion:  0\n",
            "Division:  0.0\n"
          ]
        }
      ],
      "source": [
        "class Calculadora:\n",
        "  def __init__(self, num1, num2): #corregido, omite la inicializacion\n",
        "    self.num1=num1\n",
        "    self.num2=num2\n",
        "\n",
        "  def suma(self):     #corregiod (self, a, b) en todas las funciones\n",
        "    return self.num1+self.num2   #return a + b (sin self)\n",
        "\n",
        "  def resta(self):\n",
        "    return self.num1-self.num2\n",
        "\n",
        "  def multiplicar(self):\n",
        "    return self.num1*self.num2\n",
        "\n",
        "  def division(self):\n",
        "    if self.num2==0:\n",
        "      return \"Error, no se puede dividir entre 0\"\n",
        "\n",
        "    else:\n",
        "      return self.num1/self.num2\n",
        "\n",
        "operacion1=Calculadora(12,10) #se puede poder sin valores y añadirlos en el print, dentro de la funcion\n",
        "\n",
        "print(\"Suma: \", operacion1.suma())\n",
        "print(\"Resta: \", operacion1.resta())\n",
        "print(\"Multiplicacion: \", operacion1.multiplicar())\n",
        "print(\"Division: \", operacion1.division())"
      ]
    },
    {
      "cell_type": "markdown",
      "metadata": {
        "id": "k4LhM0FDAsXF"
      },
      "source": [
        "LIBRO\n",
        "Crea una clase “Libro” con atributos como título, autor y año de publicación. Luego, crea varios objetos Libro y muestra su información."
      ]
    },
    {
      "cell_type": "code",
      "execution_count": null,
      "metadata": {
        "colab": {
          "base_uri": "https://localhost:8080/"
        },
        "id": "HS9N4vZXAwNg",
        "outputId": "44806da1-0c1d-4d23-b265-01a9e12ba3a1"
      },
      "outputs": [
        {
          "name": "stdout",
          "output_type": "stream",
          "text": [
            "Titulo libro: Pilares de la Tierra. Autor: Ken Follet. Año Publicacio,: 2006\n",
            "Titulo libro: Bodas de Sangre. Autor: Machado. Año Publicacio,: 1932\n",
            "Titulo libro: Angeles y Demonio. Autor: Dan Brown. Año Publicacio,: 2000\n"
          ]
        }
      ],
      "source": [
        "class Libro:\n",
        "  def __init__(self, titulo, autor, año):\n",
        "    self.titulo=titulo\n",
        "    self.autor=autor\n",
        "    self.año=año\n",
        "\n",
        "libro1=Libro(\"Pilares de la Tierra\", \"Ken Follet\", 2006)\n",
        "libro2=Libro(\"Bodas de Sangre\", \"Machado\", 1932)\n",
        "libro3=Libro(\"Angeles y Demonio\", \"Dan Brown\", 2000)\n",
        "\n",
        "print(f\"Titulo libro: {libro1.titulo}. Autor: {libro1.autor}. Año Publicacion: {libro1.año}\")\n",
        "print(f\"Titulo libro: {libro2.titulo}. Autor: {libro2.autor}. Año Publicacion: {libro2.año}\")\n",
        "print(f\"Titulo libro: {libro3.titulo}. Autor: {libro3.autor}. Año Publicacion: {libro3.año}\")"
      ]
    },
    {
      "cell_type": "markdown",
      "metadata": {
        "id": "3RIFEfKliWHg"
      },
      "source": [
        "RECTÁNGULO\n",
        "Crea una clase “Rectangulo” con atributos de longitud y ancho. Implementa un método para calcular el área y el perímetro del rectángulo"
      ]
    },
    {
      "cell_type": "code",
      "execution_count": null,
      "metadata": {
        "colab": {
          "base_uri": "https://localhost:8080/"
        },
        "id": "Hy-hXuewivav",
        "outputId": "6e3b4947-64c9-476c-8d18-f4086366267d"
      },
      "outputs": [
        {
          "name": "stdout",
          "output_type": "stream",
          "text": [
            "El área del rectangulo es: 48, y el perimetro es: 28\n"
          ]
        }
      ],
      "source": [
        "class Rectangulo:\n",
        "  def __init__(self, longitud,ancho):\n",
        "    self.longitud=longitud\n",
        "    self.ancho=ancho\n",
        "\n",
        "  def area(self):\n",
        "    return self.longitud * self.ancho\n",
        "\n",
        "  def perimetro(self):\n",
        "    return (self.longitud *2) +  (self.ancho*2)\n",
        "\n",
        "rectangulo=Rectangulo(6,8)\n",
        "\n",
        "print(f\"El área del rectangulo es: {rectangulo.area()}, y el perimetro es: {rectangulo.perimetro()}\")"
      ]
    },
    {
      "cell_type": "markdown",
      "metadata": {
        "id": "aZ64qi1znrQM"
      },
      "source": [
        "DADO\n",
        "Crea una clase “Dado” que simule el lanzamiento de un dado de 6 caras. Implementa un método para lanzar el dado y mostrar el resultado (quizás te convenga usar el modulo random)."
      ]
    },
    {
      "cell_type": "code",
      "execution_count": null,
      "metadata": {
        "colab": {
          "base_uri": "https://localhost:8080/"
        },
        "id": "9wLjmycvqhC6",
        "outputId": "453e511d-9a53-4032-874d-55f6ee04c82e"
      },
      "outputs": [
        {
          "name": "stdout",
          "output_type": "stream",
          "text": [
            "El valor de la tirada es: 5\n",
            "El valor de la tirada es: 2\n",
            "El valor de la tirada es: 2\n",
            "El valor de la tirada es: 3\n"
          ]
        }
      ],
      "source": [
        "import random\n",
        "\n",
        "class Dado:\n",
        "  def __init__(self):                  #def_lanzar_dado(self):\n",
        "    self.valor = random.randint(1, 6)  #lanzamiento=random.randint(1,6)\n",
        "                                       #return lanzamiento\n",
        "\n",
        "  def __str__(self):                         #opcional\n",
        "    return f\"El valor de la tirada es: {self.valor}\"\n",
        "\n",
        "tirada1=Dado()        #dado=Dado() (igual) (INSTANCIA/OBJETO)\n",
        "tirada2=Dado()        #resultado=dado.lanzar_dado()\n",
        "tirada3=Dado()\n",
        "tirada4=Dado()\n",
        "\n",
        "print(tirada1)\n",
        "print(tirada2)\n",
        "print(tirada3)\n",
        "print(tirada4)"
      ]
    },
    {
      "cell_type": "markdown",
      "metadata": {
        "id": "Iclbv6WM7_Ut"
      },
      "source": [
        "COCHE\n",
        "Crea una clase “Coche” con atributos como marca, modelo y año. Implementa un método para encender el coche y otro para apagarlo (puedes simulae el encendido y apagado con una variable booleana)."
      ]
    },
    {
      "cell_type": "code",
      "execution_count": 4,
      "metadata": {
        "colab": {
          "base_uri": "https://localhost:8080/"
        },
        "id": "tjRkWRBb8QJE",
        "outputId": "a6725551-0d9e-4ce9-e055-15309ed374ce"
      },
      "outputs": [
        {
          "name": "stdout",
          "output_type": "stream",
          "text": [
            "El coche esta encendido:  False\n",
            "El coche esta encendido:  True\n",
            "El coche esta encendido:  False\n"
          ]
        }
      ],
      "source": [
        "class Coche:\n",
        "  def __init__(self, marca, modelo, año):\n",
        "    self.encendido = False\n",
        "    self.marca = marca\n",
        "    self.modelo = modelo\n",
        "    self.año = año\n",
        "\n",
        "  def encender(self):\n",
        "      self.encendido=True\n",
        "  \n",
        "  def apagar(self):\n",
        "      self.encendido=False\n",
        "\n",
        "\n",
        "mi_coche = Coche(\"Toyota\", \"Corolla\", 1992)\n",
        "print(\"El coche esta encendido: \", mi_coche.encendido)\n",
        "mi_coche.encender()\n",
        "print(\"El coche esta encendido: \", mi_coche.encendido)\n",
        "mi_coche.apagar()\n",
        "print(\"El coche esta encendido: \", mi_coche.encendido)\n"
      ]
    },
    {
      "cell_type": "markdown",
      "metadata": {
        "id": "mqympIYPKo-o"
      },
      "source": [
        "MONEDA (by chatgpt): Crea una clase llamada Moneda que simula lanzar una moneda.\n"
      ]
    },
    {
      "cell_type": "code",
      "execution_count": null,
      "metadata": {
        "colab": {
          "base_uri": "https://localhost:8080/"
        },
        "id": "Ju5wLYwmKvUa",
        "outputId": "26a6eee5-2d6d-498b-8c9b-3f3d2aee4d48"
      },
      "outputs": [
        {
          "name": "stdout",
          "output_type": "stream",
          "text": [
            "La cara de la moneda a salido cara\n"
          ]
        }
      ],
      "source": [
        "import random\n",
        "\n",
        "class Moneda:\n",
        "  def __init__(self):\n",
        "    self.valor=random.choice([\"cara\", \"cruz\"])\n",
        "\n",
        "  def __str__(self):\n",
        "    return f\"La cara de la moneda ha salido {self.valor}\"\n",
        "\n",
        "tirada1=Moneda()\n",
        "print(tirada1)\n",
        "\n",
        "\n"
      ]
    },
    {
      "cell_type": "markdown",
      "metadata": {
        "id": "H4-2X5TzNjwR"
      },
      "source": [
        "🧊 2. Clase Bebida\n",
        "Enunciado:\n",
        "\n",
        "Crea una clase llamada Bebida con los atributos:\n",
        "\n",
        "nombre\n",
        "\n",
        "temperatura (en grados Celsius)\n",
        "\n",
        "Al crear el objeto, la temperatura será de 25ºC por defecto (temperatura ambiente).\n",
        "\n",
        "Incluye los siguientes métodos:\n",
        "\n",
        "enfriar(grados) → reduce la temperatura.\n",
        "\n",
        "calentar(grados) → aumenta la temperatura.\n",
        "\n",
        "__str__() → muestra el nombre de la bebida y su temperatura actual."
      ]
    },
    {
      "cell_type": "code",
      "execution_count": null,
      "metadata": {
        "colab": {
          "base_uri": "https://localhost:8080/"
        },
        "id": "fdMSFkyvNw7k",
        "outputId": "b035667b-67a2-47d3-b87a-28e6756682e4"
      },
      "outputs": [
        {
          "name": "stdout",
          "output_type": "stream",
          "text": [
            "La bebida Cerveza, tiene una temperatura de 25 grados.\n",
            "La bebida Cerveza, tiene una temperatura de 18 grados.\n",
            "La bebida Cerveza, tiene una temperatura de 20 grados.\n"
          ]
        }
      ],
      "source": [
        "class Bebida:\n",
        "\n",
        "  def __init__(self, nombre, temperatura=25):\n",
        "\n",
        "    self.nombre=nombre\n",
        "    self.temperatura=temperatura\n",
        "\n",
        "  def enfriar(self, grados):\n",
        "     self.temperatura -= grados\n",
        "\n",
        "  def calentar(self, grados):\n",
        "      self.temperatura += grados\n",
        "\n",
        "\n",
        "  def __str__(self):\n",
        "    return f\"La bebida {self.nombre}, tiene una temperatura de {self.temperatura} grados.\"\n",
        "\n",
        "bebida1= Bebida(\"Cerveza\")\n",
        "print(bebida1)\n",
        "\n",
        "bebida1.enfriar(7)\n",
        "print(bebida1)\n",
        "\n",
        "bebida1.calentar(2)\n",
        "print(bebida1)\n"
      ]
    },
    {
      "cell_type": "markdown",
      "metadata": {
        "id": "z5o-SsyVROAZ"
      },
      "source": [
        "🎯 1. Clase Pelota\n",
        "Enunciado:\n",
        "\n",
        "Crea una clase llamada Pelota que tenga los siguientes atributos:\n",
        "\n",
        "color\n",
        "\n",
        "diametro\n",
        "\n",
        "inflada (por defecto en False)\n",
        "\n",
        "La clase debe tener:\n",
        "\n",
        "Un método inflar() que cambie el estado a True.\n",
        "\n",
        "Un método __str__() que muestre el color, diámetro y si está inflada o no. Si no está inflada, debe mostrar un mensaje diciendo que hay que inflarla."
      ]
    },
    {
      "cell_type": "code",
      "execution_count": null,
      "metadata": {
        "colab": {
          "base_uri": "https://localhost:8080/"
        },
        "id": "kKy-xk1cRPrI",
        "outputId": "7b4085cd-1186-4ee5-8037-bc79ca2e0647"
      },
      "outputs": [
        {
          "name": "stdout",
          "output_type": "stream",
          "text": [
            "La pelota no esta inflada por lo que no se puede jugar\n",
            "La pelota es de color Roja, tiene una diametro de 45 y esta inflada, por lo que se puede jugar.\n",
            "La pelota no esta inflada por lo que no se puede jugar\n"
          ]
        }
      ],
      "source": [
        "class Pelota:\n",
        "  def __init__(self,  color, diametro, inflada=False):\n",
        "    self.color=color\n",
        "    self.diametro=diametro\n",
        "    self.inflada=inflada\n",
        "\n",
        "\n",
        "  def inflar(self):\n",
        "    self.inflada=True\n",
        "\n",
        "  def desinflar(self):\n",
        "    self.inflada=False\n",
        "\n",
        "  def __str__(self):\n",
        "    if self.inflada:\n",
        "         return f\"La pelota es de color {self.color}, tiene una diametro de {self.diametro} y esta inflada, por lo que se puede jugar.\"\n",
        "\n",
        "    else:\n",
        "      return \"La pelota no esta inflada por lo que no se puede jugar\"\n",
        "\n",
        "pelota1=Pelota(\"Roja\", 45)\n",
        "print(pelota1)\n",
        "\n",
        "pelota1.inflar()\n",
        "print(pelota1)\n",
        "\n",
        "pelota1.desinflar()\n",
        "print(pelota1)"
      ]
    }
  ],
  "metadata": {
    "colab": {
      "provenance": []
    },
    "kernelspec": {
      "display_name": "work",
      "language": "python",
      "name": "python3"
    },
    "language_info": {
      "codemirror_mode": {
        "name": "ipython",
        "version": 3
      },
      "file_extension": ".py",
      "mimetype": "text/x-python",
      "name": "python",
      "nbconvert_exporter": "python",
      "pygments_lexer": "ipython3",
      "version": "3.9.21"
    }
  },
  "nbformat": 4,
  "nbformat_minor": 0
}
