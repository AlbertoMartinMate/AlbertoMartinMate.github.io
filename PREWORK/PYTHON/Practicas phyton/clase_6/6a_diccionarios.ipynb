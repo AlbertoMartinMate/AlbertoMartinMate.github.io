{
 "cells": [
  {
   "cell_type": "markdown",
   "metadata": {},
   "source": [
    "1. Crea un diccionario vacío llamado “mi_diccionario”."
   ]
  },
  {
   "cell_type": "code",
   "execution_count": 6,
   "metadata": {},
   "outputs": [
    {
     "name": "stdout",
     "output_type": "stream",
     "text": [
      "<class 'dict'>\n"
     ]
    }
   ],
   "source": [
    "mi_diccionario={}\n",
    "print(type(mi_diccionario))"
   ]
  },
  {
   "cell_type": "markdown",
   "metadata": {},
   "source": [
    "2. Agrega un par clave-valor a \"mi_diccionario\" donde la clave sea \"nombre\" y el valor sea tu nombre."
   ]
  },
  {
   "cell_type": "code",
   "execution_count": 7,
   "metadata": {},
   "outputs": [
    {
     "name": "stdout",
     "output_type": "stream",
     "text": [
      "{'nombre': 'alberto'}\n"
     ]
    }
   ],
   "source": [
    "mi_diccionario={}\n",
    "mi_diccionario[\"nombre\"]=\"alberto\"\n",
    "print(mi_diccionario)\n"
   ]
  },
  {
   "cell_type": "markdown",
   "metadata": {},
   "source": [
    "3. Accede e imprime el valor asociado con la clave \"nombre\" en “mi_diccionario\"."
   ]
  },
  {
   "cell_type": "code",
   "execution_count": 8,
   "metadata": {},
   "outputs": [
    {
     "name": "stdout",
     "output_type": "stream",
     "text": [
      "alberto\n"
     ]
    }
   ],
   "source": [
    "print(mi_diccionario[\"nombre\"])"
   ]
  },
  {
   "cell_type": "markdown",
   "metadata": {},
   "source": [
    "4. Verifica si la clave \"edad\" existe en \"mi_diccionario\". Imprime \"True\" si existe y \"False\" en caso contrario."
   ]
  },
  {
   "cell_type": "code",
   "execution_count": 9,
   "metadata": {},
   "outputs": [
    {
     "name": "stdout",
     "output_type": "stream",
     "text": [
      "False\n",
      "True\n"
     ]
    }
   ],
   "source": [
    "print(\"edad\" in mi_diccionario)\n",
    "print(\"nombre\" in mi_diccionario)"
   ]
  },
  {
   "cell_type": "markdown",
   "metadata": {},
   "source": [
    "5. Crea un diccionario llamado \"estudiante\" con los siguientes pares clave-valor: \"nombre\" con el nombre del alumno, \"edad\" con su edad y \"materia\" con su materia favorita."
   ]
  },
  {
   "cell_type": "code",
   "execution_count": 10,
   "metadata": {},
   "outputs": [
    {
     "name": "stdout",
     "output_type": "stream",
     "text": [
      "{'nombre': 'eduardo', 'edad': 33, 'materia': 'fisica'}\n"
     ]
    }
   ],
   "source": [
    "estudiante={\"nombre\": \"eduardo\", \"edad\": 33, \"materia\": \"fisica\"}\n",
    "print(estudiante)"
   ]
  },
  {
   "cell_type": "markdown",
   "metadata": {},
   "source": [
    "6. Actualiza el valor de la clave \"edad\" en el diccionario \"estudiante\" para reflejar la edad actual de tu amigo."
   ]
  },
  {
   "cell_type": "code",
   "execution_count": 11,
   "metadata": {},
   "outputs": [
    {
     "name": "stdout",
     "output_type": "stream",
     "text": [
      "{'nombre': 'eduardo', 'edad': 37, 'materia': 'fisica'}\n"
     ]
    }
   ],
   "source": [
    "estudiante[\"edad\"]=37\n",
    "print(estudiante)"
   ]
  },
  {
   "cell_type": "markdown",
   "metadata": {},
   "source": [
    "7. Elimina el par clave-valor con la clave \"materia\" del diccionario “estudiante\"."
   ]
  },
  {
   "cell_type": "code",
   "execution_count": 12,
   "metadata": {},
   "outputs": [
    {
     "name": "stdout",
     "output_type": "stream",
     "text": [
      "{'nombre': 'eduardo', 'edad': 37}\n"
     ]
    }
   ],
   "source": [
    "del estudiante[\"materia\"]     #tb nos funcionaria valor_materia= estudiante.pop[\"materia\"]\n",
    "print(estudiante)             # y a si guardaria el valor o sino ponemos variable nos lo borra"
   ]
  },
  {
   "cell_type": "markdown",
   "metadata": {},
   "source": [
    "8. Imprime todas las claves en el diccionario “estudiante\"."
   ]
  },
  {
   "cell_type": "code",
   "execution_count": null,
   "metadata": {},
   "outputs": [
    {
     "name": "stdout",
     "output_type": "stream",
     "text": [
      "dict_keys(['nombre', 'edad'])\n",
      "nombre\n",
      "edad\n"
     ]
    }
   ],
   "source": [
    "print(estudiante.keys()) #asi tb saldria\n",
    "\n",
    "for clave in estudiante.keys(): #o asi\n",
    "    print(clave)"
   ]
  },
  {
   "cell_type": "markdown",
   "metadata": {},
   "source": [
    "9. Crea un diccionario llamado \"agenda\" con tres entradas: \"Juan\" con el valor \"1234567890\", \"Joana\" con el valor \"9876543210\" y \"Jimena\" con el valor “5555555555”."
   ]
  },
  {
   "cell_type": "code",
   "execution_count": 17,
   "metadata": {},
   "outputs": [
    {
     "name": "stdout",
     "output_type": "stream",
     "text": [
      "{'Juan': '1234567890', 'Joana': '9876543210', 'Jimena': '5555555555'}\n"
     ]
    }
   ],
   "source": [
    "agenda={\n",
    "    \"Juan\": \"1234567890\", \n",
    "    \"Joana\": \"9876543210\", \n",
    "    \"Jimena\": \"5555555555\",\n",
    "    }\n",
    "print(agenda)"
   ]
  },
  {
   "cell_type": "markdown",
   "metadata": {},
   "source": [
    "10. Agrega una nueva entrada al diccionario \"agenda\" con la clave \"Julio\" y el valor “9998887777\"."
   ]
  },
  {
   "cell_type": "code",
   "execution_count": 18,
   "metadata": {},
   "outputs": [
    {
     "name": "stdout",
     "output_type": "stream",
     "text": [
      "{'Juan': '1234567890', 'Joana': '9876543210', 'Jimena': '5555555555', 'Julio': '9998887777'}\n"
     ]
    }
   ],
   "source": [
    "agenda[\"Julio\"]= \"9998887777\"\n",
    "print(agenda)"
   ]
  },
  {
   "cell_type": "markdown",
   "metadata": {},
   "source": [
    "11. Imprime el número de entradas (pares clave-valor) en el diccionario “agenda\"."
   ]
  },
  {
   "cell_type": "code",
   "execution_count": 15,
   "metadata": {},
   "outputs": [
    {
     "name": "stdout",
     "output_type": "stream",
     "text": [
      "4\n"
     ]
    }
   ],
   "source": [
    "print(len(agenda))"
   ]
  },
  {
   "cell_type": "markdown",
   "metadata": {},
   "source": [
    "12. Crea una lista llamada \"claves\" que contenga todas las claves del diccionario"
   ]
  },
  {
   "cell_type": "code",
   "execution_count": 20,
   "metadata": {},
   "outputs": [
    {
     "name": "stdout",
     "output_type": "stream",
     "text": [
      "['Juan', 'Joana', 'Jimena', 'Julio']\n",
      "dict_keys(['Juan', 'Joana', 'Jimena', 'Julio'])\n"
     ]
    }
   ],
   "source": [
    "claves= list(agenda.keys())\n",
    "print(claves)\n",
    "print(agenda.keys())"
   ]
  },
  {
   "cell_type": "markdown",
   "metadata": {},
   "source": [
    "13. Verifica si la clave \"Juan\" existe en el diccionario \"agenda\". Imprime \"True\" si existe y \"False\" en caso contrario."
   ]
  },
  {
   "cell_type": "code",
   "execution_count": 17,
   "metadata": {},
   "outputs": [
    {
     "name": "stdout",
     "output_type": "stream",
     "text": [
      "True\n"
     ]
    }
   ],
   "source": [
    "print(\"Juan\" in agenda)"
   ]
  },
  {
   "cell_type": "markdown",
   "metadata": {},
   "source": [
    "14. Elimina la entrada con la clave “Jimena”."
   ]
  },
  {
   "cell_type": "code",
   "execution_count": 18,
   "metadata": {},
   "outputs": [
    {
     "name": "stdout",
     "output_type": "stream",
     "text": [
      "{'Juan': '1234567890', 'Joana': '9876543210', 'Julio': '9998887777'}\n"
     ]
    }
   ],
   "source": [
    "del agenda[\"Jimena\"]\n",
    "print(agenda)"
   ]
  },
  {
   "cell_type": "markdown",
   "metadata": {},
   "source": [
    "15. Utiliza un bucle for para iterar sobre todas las claves en el diccionario \"agenda\" e imprime cada par clave-valor en el formato \"Nombre: Número”."
   ]
  },
  {
   "cell_type": "code",
   "execution_count": 22,
   "metadata": {},
   "outputs": [
    {
     "name": "stdout",
     "output_type": "stream",
     "text": [
      "El numero de Juan es: 1234567890\n",
      "El numero de Joana es: 9876543210\n",
      "El numero de Julio es: 9998887777\n"
     ]
    }
   ],
   "source": [
    "for nombre, numero in agenda.items():\n",
    "    print(\"El numero de\", nombre, \"es:\", numero)"
   ]
  },
  {
   "cell_type": "code",
   "execution_count": null,
   "metadata": {},
   "outputs": [
    {
     "name": "stdout",
     "output_type": "stream",
     "text": [
      "Juan : 1234567890\n",
      "Joana : 9876543210\n",
      "Jimena : 5555555555\n",
      "Julio : 9998887777\n"
     ]
    }
   ],
   "source": [
    "for tupla in agenda.items():\n",
    "    clave, valor=tupla\n",
    "    print(clave, \":\", valor)\n",
    "\n",
    "    #esto es lo mismo que el anterior"
   ]
  },
  {
   "cell_type": "code",
   "execution_count": null,
   "metadata": {},
   "outputs": [
    {
     "name": "stdout",
     "output_type": "stream",
     "text": [
      "Juan : 1234567890\n",
      "Joana : 9876543210\n",
      "Jimena : 5555555555\n",
      "Julio : 9998887777\n"
     ]
    }
   ],
   "source": [
    "for clave in agenda:\n",
    "    valor= agenda[clave]\n",
    "    print(clave, \":\", valor)\n",
    "\n",
    "    #otra forma"
   ]
  },
  {
   "cell_type": "markdown",
   "metadata": {},
   "source": [
    "16. Utiliza el método \"get()\" para obtener el valor asociado con la clave \"Juan\" en el diccionario \"agenda\". Si la clave no existe, imprime \"Clave no encontrada”."
   ]
  },
  {
   "cell_type": "code",
   "execution_count": null,
   "metadata": {},
   "outputs": [
    {
     "name": "stdout",
     "output_type": "stream",
     "text": [
      "1234567890\n",
      "Clave no encontrada\n"
     ]
    }
   ],
   "source": [
    "valor_juan= agenda.get(\"Juan\", \"Clave no encontrada\")\n",
    "valor_pedro= agenda.get(\"Pedro\", \"Clave no encontrada\") #prueba para demostrar q imprime eso\n",
    "print(valor_juan)\n",
    "print(valor_pedro)"
   ]
  },
  {
   "cell_type": "markdown",
   "metadata": {},
   "source": [
    "17. Borra todas las entradas del diccionario “agenda”."
   ]
  },
  {
   "cell_type": "code",
   "execution_count": 27,
   "metadata": {},
   "outputs": [
    {
     "name": "stdout",
     "output_type": "stream",
     "text": [
      "{'Juan': '1234567890', 'Joana': '9876543210', 'Jimena': '5555555555', 'Julio': '9998887777'}\n",
      "{}\n"
     ]
    }
   ],
   "source": [
    "print(agenda)\n",
    "agenda.clear()\n",
    "print(agenda)"
   ]
  },
  {
   "cell_type": "markdown",
   "metadata": {},
   "source": [
    "LISTAS DE DICCIONARIOS: \n",
    "18. Crea una lista llamada \"estudiantes\" que contenga dos diccionarios. Cada diccionario representa a un estudiante y tiene las claves \"nombre\" y \"edad\" con sus respectivos valores. Recorre la lista e imprime el nombre y edad de cada estudiante."
   ]
  },
  {
   "cell_type": "code",
   "execution_count": 23,
   "metadata": {},
   "outputs": [
    {
     "name": "stdout",
     "output_type": "stream",
     "text": [
      "\n",
      " estudiante_1 se llama: \n",
      "\t Alberto, y tiene una edad de: 38 años\n",
      "\n",
      " estudiante_2 se llama: \n",
      "\t Maria, y tiene una edad de: 36 años\n"
     ]
    }
   ],
   "source": [
    "estudiantes= {\n",
    "    \"estudiante_1\":{\n",
    "        \"nombre\": \"alberto\",\n",
    "        \"edad\": 38,\n",
    "    },\n",
    "    \"estudiante_2\":{\n",
    "        \"nombre\":\"maria\",\n",
    "        \"edad\": 36,\n",
    "    }\n",
    "}\n",
    "\n",
    "for estudiante, info_estudiante in estudiantes.items():\n",
    "    print(\"\\n\", estudiante, \"se llama: \")\n",
    "    nombre_estudiante= info_estudiante[\"nombre\"]\n",
    "    edad_estudiante= info_estudiante[\"edad\"]\n",
    "\n",
    "    print(f\"\\t {nombre_estudiante.title()}, y tiene una edad de: {edad_estudiante} años\")"
   ]
  },
  {
   "cell_type": "code",
   "execution_count": null,
   "metadata": {},
   "outputs": [
    {
     "name": "stdout",
     "output_type": "stream",
     "text": [
      "Nombre: Eduardo . Edad: 20\n",
      "Nombre: Juan . Edad: 22\n"
     ]
    }
   ],
   "source": [
    "# forma corregida\n",
    "\n",
    "estudiantes2 = [\n",
    "    {\"nombre\": \"Eduardo\", \"edad\": 20},\n",
    "    {\"nombre\": \"Juan\", \"edad\": 22},\n",
    "]\n",
    "\n",
    "for estudiante2 in estudiantes2:\n",
    "    nombre=estudiante2[\"nombre\"]\n",
    "    edad=estudiante2[\"edad\"]\n",
    "    print(\"Nombre:\", nombre,\". Edad:\", edad)"
   ]
  },
  {
   "cell_type": "markdown",
   "metadata": {},
   "source": [
    "19. Agrega un nuevo estudiante a la lista \"estudiantes\" utilizando un diccionario con las mismas claves \"nombre\" y \"edad\". Imprime la lista actualizada."
   ]
  },
  {
   "cell_type": "code",
   "execution_count": null,
   "metadata": {},
   "outputs": [
    {
     "name": "stdout",
     "output_type": "stream",
     "text": [
      "\n",
      " estudiante_1 se llama: \n",
      "\t Alberto, y tiene una edad de: 38 años\n",
      "\n",
      " estudiante_2 se llama: \n",
      "\t Maria, y tiene una edad de: 36 años\n",
      "\n",
      " estudiante_3 se llama: \n",
      "\t Rodrigo, y tiene una edad de: 4 años\n"
     ]
    }
   ],
   "source": [
    "estudiantes[\"estudiante_3\"]={\"nombre\": \"rodrigo\", \"edad\": 4,}\n",
    "#en la correcion estudiantes.append\n",
    "\n",
    "for estudiante, info_estudiante in estudiantes.items():\n",
    "    print(\"\\n\", estudiante, \"se llama: \")\n",
    "    nombre_estudiante= info_estudiante[\"nombre\"]\n",
    "    edad_estudiante= info_estudiante[\"edad\"]\n",
    "\n",
    "    print(f\"\\t {nombre_estudiante.title()}, y tiene una edad de: {edad_estudiante} años\")"
   ]
  },
  {
   "cell_type": "markdown",
   "metadata": {},
   "source": [
    "20. Elimina el segundo estudiante de la lista \"estudiantes\". Imprime la lista actualizada."
   ]
  },
  {
   "cell_type": "code",
   "execution_count": null,
   "metadata": {},
   "outputs": [
    {
     "name": "stdout",
     "output_type": "stream",
     "text": [
      "\n",
      " estudiante_1 se llama: \n",
      "\t Alberto, y tiene una edad de: 38 años\n",
      "\n",
      " estudiante_3 se llama: \n",
      "\t Rodrigo, y tiene una edad de: 4 años\n"
     ]
    }
   ],
   "source": [
    "#en la correcion del estudiantes[1]\n",
    "\n",
    "del estudiantes[\"estudiante_2\"]\n",
    "\n",
    "for estudiante, info_estudiante in estudiantes.items():\n",
    "    print(\"\\n\", estudiante, \"se llama: \")\n",
    "    nombre_estudiante= info_estudiante[\"nombre\"]\n",
    "    edad_estudiante= info_estudiante[\"edad\"]\n",
    "\n",
    "    print(f\"\\t {nombre_estudiante.title()}, y tiene una edad de: {edad_estudiante} años\")\n",
    "\n"
   ]
  },
  {
   "cell_type": "markdown",
   "metadata": {},
   "source": [
    "21. Actualiza la edad del primer estudiante en la lista \"estudiantes\" a un nuevo valor. Imprime la lista actualizada."
   ]
  },
  {
   "cell_type": "code",
   "execution_count": null,
   "metadata": {},
   "outputs": [
    {
     "name": "stdout",
     "output_type": "stream",
     "text": [
      "\n",
      " estudiante_1 se llama: \n",
      "\t Alberto, y tiene una edad de: 25 años\n",
      "\n",
      " estudiante_3 se llama: \n",
      "\t Rodrigo, y tiene una edad de: 4 años\n"
     ]
    }
   ],
   "source": [
    "# estudiantes[0][\"edad\"]=23\n",
    "\n",
    "estudiantes[\"estudiante_1\"][\"edad\"]= 25\n",
    "\n",
    "for estudiante, info_estudiante in estudiantes.items():\n",
    "    print(\"\\n\", estudiante, \"se llama: \")\n",
    "    nombre_estudiante= info_estudiante[\"nombre\"]\n",
    "    edad_estudiante= info_estudiante[\"edad\"]\n",
    "\n",
    "    print(f\"\\t {nombre_estudiante.title()}, y tiene una edad de: {edad_estudiante} años\")\n",
    "\n",
    "\n",
    "\n"
   ]
  },
  {
   "cell_type": "markdown",
   "metadata": {},
   "source": [
    "ANIDAMIENTO DE DICCIONARIOS: 22. Crea un diccionario llamado \"productos\" que contenga dos entradas. Cada entrada representa un producto y tiene a su vez las claves \"nombre\" y \"precio\" con sus respectivos valores. Recorre el diccionario e imprime el nombre y precio de cada producto."
   ]
  },
  {
   "cell_type": "code",
   "execution_count": 7,
   "metadata": {},
   "outputs": [
    {
     "name": "stdout",
     "output_type": "stream",
     "text": [
      "El producto1 es queso y tiene un precio de: 85\n",
      "El producto2 es carne y tiene un precio de: 105\n"
     ]
    }
   ],
   "source": [
    "productos={\n",
    "    \"producto1\": {\"nombre\":\"queso\", \"precio\": 85},\n",
    "    \"producto2\": {\"nombre\":\"carne\", \"precio\": 105},\n",
    "}\n",
    "\n",
    "for clave, valor in productos.items():\n",
    "    nombre= valor[\"nombre\"]\n",
    "    precio=valor[\"precio\"]\n",
    "\n",
    "    print(\"El\", clave, \"es\", nombre, \"y tiene un precio de:\", precio)\n"
   ]
  },
  {
   "cell_type": "markdown",
   "metadata": {},
   "source": [
    "23. Agrega un nuevo producto al diccionario \"productos\" utilizando una nueva clave y valor. Imprime el diccionario actualizado."
   ]
  },
  {
   "cell_type": "code",
   "execution_count": 8,
   "metadata": {},
   "outputs": [
    {
     "name": "stdout",
     "output_type": "stream",
     "text": [
      "{'producto1': {'nombre': 'queso', 'precio': 85}, 'producto2': {'nombre': 'carne', 'precio': 105}, 'producto3': {'nombre': 'leche', 'precio': 55}}\n"
     ]
    }
   ],
   "source": [
    "productos[\"producto3\"] = {\"nombre\":\"leche\", \"precio\":55}\n",
    "\n",
    "print(productos)"
   ]
  },
  {
   "cell_type": "markdown",
   "metadata": {},
   "source": [
    "24. Crea un diccionario llamado \"equipos\" que contenga tres entradas. Cada entrada representa un equipo deportivo y tiene las claves \"nombre\" y \"jugadores\" con sus respectivos valores. Los valores de \"jugadores\" deben ser listas con los nombres de los jugadores. Recorre el diccionario e imprime el nombre del equipo y la lista de jugadores."
   ]
  },
  {
   "cell_type": "code",
   "execution_count": 10,
   "metadata": {},
   "outputs": [
    {
     "name": "stdout",
     "output_type": "stream",
     "text": [
      "El equipo1 corresponde al RealMadrid\n",
      "y sus jugadores son: ['Mateo', 'Raul', 'Marcos', 'Dani']\n",
      "El equipo2 corresponde al Deportivo\n",
      "y sus jugadores son: ['Muro', 'Bebeto', 'Pandiani', 'Djalminha']\n",
      "El equipo3 corresponde al Getafe\n",
      "y sus jugadores son: ['Pedro', 'Luis', 'Paco', 'Hector']\n"
     ]
    }
   ],
   "source": [
    "equipos={\n",
    "    \"equipo1\":{\"nombre\":\"RealMadrid\", \"jugadores\":[\"Mateo\", \"Raul\", \"Marcos\", \"Dani\"]},\n",
    "   \"equipo2\":{\"nombre\":\"Deportivo\", \"jugadores\":[\"Muro\", \"Bebeto\", \"Pandiani\", \"Djalminha\"]},\n",
    "   \"equipo3\":{\"nombre\":\"Getafe\", \"jugadores\":[\"Pedro\", \"Luis\", \"Paco\", \"Hector\"]},\n",
    "}\n",
    "\n",
    "for clave, valor in equipos.items():\n",
    "    \n",
    "    nombre_equipo=valor[\"nombre\"]\n",
    "    nombre_jugadores=valor[\"jugadores\"]\n",
    "\n",
    "    print(\"El\", clave, \"corresponde al\", nombre_equipo)\n",
    "    print(\"y sus jugadores son:\",nombre_jugadores)"
   ]
  },
  {
   "cell_type": "markdown",
   "metadata": {},
   "source": [
    "25. Agrega un nuevo equipo al diccionario \"equipos\" utilizando una nueva clave y valor. La lista de jugadores debe contener al menos tres nombres. Imprime el diccionario actualizado."
   ]
  },
  {
   "cell_type": "code",
   "execution_count": 11,
   "metadata": {},
   "outputs": [
    {
     "name": "stdout",
     "output_type": "stream",
     "text": [
      "{'equipo1': {'nombre': 'RealMadrid', 'jugadores': ['Mateo', 'Raul', 'Marcos', 'Dani']}, 'equipo2': {'nombre': 'Deportivo', 'jugadores': ['Muro', 'Bebeto', 'Pandiani', 'Djalminha']}, 'equipo3': {'nombre': 'Getafe', 'jugadores': ['Pedro', 'Luis', 'Paco', 'Hector']}, 'equipo4': {'nombre': 'Leganes', 'jugadores': ['Rodrigo', 'Maria', 'Gonzalo', 'Alberto']}}\n"
     ]
    }
   ],
   "source": [
    "equipos[\"equipo4\"]={\"nombre\": \"Leganes\", \"jugadores\":[\"Rodrigo\", \"Maria\", \"Gonzalo\", \"Alberto\"]}\n",
    "\n",
    "print(equipos)\n"
   ]
  },
  {
   "cell_type": "markdown",
   "metadata": {},
   "source": [
    "26. Actualiza la lista de jugadores de uno de los equipos existentes en el diccionario \"equipos\". Agrega un nuevo jugador a la lista. Imprime el diccionario actualizado."
   ]
  },
  {
   "cell_type": "code",
   "execution_count": 13,
   "metadata": {},
   "outputs": [
    {
     "name": "stdout",
     "output_type": "stream",
     "text": [
      "El equipo1 corresponde al RealMadrid\n",
      "y sus jugadores son: ['Mateo', 'Raul', 'Marcos', 'Dani']\n",
      "El equipo2 corresponde al Deportivo\n",
      "y sus jugadores son: ['Muro', 'Bebeto', 'Pandiani', 'Djalminha']\n",
      "El equipo3 corresponde al Getafe\n",
      "y sus jugadores son: ['Pedro', 'Luis', 'Paco', 'Hector']\n",
      "El equipo4 corresponde al Leganes\n",
      "y sus jugadores son: ['Rodrigo', 'Maria', 'Gonzalo', 'Alberto', 'Arya']\n"
     ]
    }
   ],
   "source": [
    "equipos[\"equipo4\"][\"jugadores\"].append(\"Arya\")\n",
    "\n",
    "for clave, valor in equipos.items():\n",
    "    \n",
    "    nombre_equipo=valor[\"nombre\"]\n",
    "    nombre_jugadores=valor[\"jugadores\"]\n",
    "\n",
    "    print(\"El\", clave, \"corresponde al\", nombre_equipo)\n",
    "    print(\"y sus jugadores son:\",nombre_jugadores)"
   ]
  }
 ],
 "metadata": {
  "kernelspec": {
   "display_name": "work",
   "language": "python",
   "name": "python3"
  },
  "language_info": {
   "codemirror_mode": {
    "name": "ipython",
    "version": 3
   },
   "file_extension": ".py",
   "mimetype": "text/x-python",
   "name": "python",
   "nbconvert_exporter": "python",
   "pygments_lexer": "ipython3",
   "version": "3.9.21"
  }
 },
 "nbformat": 4,
 "nbformat_minor": 2
}
